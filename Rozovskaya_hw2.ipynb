{
 "cells": [
  {
   "cell_type": "markdown",
   "metadata": {},
   "source": [
    "# Экспериментальная лингвистика\n",
    "\n",
    "## Домашнее задание 2\n",
    "\n",
    "\n",
    "    • Задание: провести предварительный анализ данных\n",
    "    o Выделить независимые и зависимые переменные\n",
    "    o Какие переменные межгрупповые, какие внутригрупповые?\n",
    "    o Поделить данные на выборки (возможно деление как по внутригрупповому, так и по межгрупповому признаку)\n",
    "    o Для всего массива данных, так и внутри групп рассчитать: медиану, среднее, стандартное отклонение, максимальные и\n",
    "    минимальные значения\n",
    "    o Построить графики распределений\n",
    "    o Предположить, какие переменные могут быть связаны, проверить предположение с помощью графиков или\n",
    "    количественных метрик.\n",
    "    Прокомментировать результат"
   ]
  },
  {
   "cell_type": "code",
   "execution_count": 129,
   "metadata": {},
   "outputs": [],
   "source": [
    "import pandas as pd\n",
    "import scipy\n",
    "import numpy as np\n",
    "from scipy.stats import f_oneway\n",
    "import statsmodels.api as sm\n",
    "from statsmodels.formula.api import ols\n",
    "from statsmodels.stats.anova import anova_lm\n",
    "import matplotlib.pyplot as plt\n",
    "from scipy import stats\n",
    "from scipy.stats import chi2\n",
    "import seaborn as sns"
   ]
  },
  {
   "cell_type": "code",
   "execution_count": 130,
   "metadata": {
    "scrolled": false
   },
   "outputs": [
    {
     "data": {
      "text/html": [
       "<div>\n",
       "<style scoped>\n",
       "    .dataframe tbody tr th:only-of-type {\n",
       "        vertical-align: middle;\n",
       "    }\n",
       "\n",
       "    .dataframe tbody tr th {\n",
       "        vertical-align: top;\n",
       "    }\n",
       "\n",
       "    .dataframe thead th {\n",
       "        text-align: right;\n",
       "    }\n",
       "</style>\n",
       "<table border=\"1\" class=\"dataframe\">\n",
       "  <thead>\n",
       "    <tr style=\"text-align: right;\">\n",
       "      <th></th>\n",
       "      <th>participant</th>\n",
       "      <th>stim_order</th>\n",
       "      <th>condition</th>\n",
       "      <th>AL</th>\n",
       "      <th>L1</th>\n",
       "      <th>answer</th>\n",
       "      <th>score</th>\n",
       "      <th>RT</th>\n",
       "      <th>task</th>\n",
       "      <th>session</th>\n",
       "    </tr>\n",
       "  </thead>\n",
       "  <tbody>\n",
       "    <tr>\n",
       "      <th>0</th>\n",
       "      <td>0</td>\n",
       "      <td>RS</td>\n",
       "      <td>real</td>\n",
       "      <td>derartu</td>\n",
       "      <td>samolet</td>\n",
       "      <td>down</td>\n",
       "      <td>1.0</td>\n",
       "      <td>2.541925</td>\n",
       "      <td>AFC</td>\n",
       "      <td>train</td>\n",
       "    </tr>\n",
       "    <tr>\n",
       "      <th>1</th>\n",
       "      <td>0</td>\n",
       "      <td>RS</td>\n",
       "      <td>real</td>\n",
       "      <td>asamu</td>\n",
       "      <td>shprits</td>\n",
       "      <td>right</td>\n",
       "      <td>1.0</td>\n",
       "      <td>1.794262</td>\n",
       "      <td>AFC</td>\n",
       "      <td>train</td>\n",
       "    </tr>\n",
       "    <tr>\n",
       "      <th>2</th>\n",
       "      <td>0</td>\n",
       "      <td>RS</td>\n",
       "      <td>real</td>\n",
       "      <td>farimu</td>\n",
       "      <td>konvert</td>\n",
       "      <td>down</td>\n",
       "      <td>1.0</td>\n",
       "      <td>1.989078</td>\n",
       "      <td>AFC</td>\n",
       "      <td>train</td>\n",
       "    </tr>\n",
       "    <tr>\n",
       "      <th>3</th>\n",
       "      <td>0</td>\n",
       "      <td>RS</td>\n",
       "      <td>real</td>\n",
       "      <td>vortule</td>\n",
       "      <td>roza</td>\n",
       "      <td>left</td>\n",
       "      <td>1.0</td>\n",
       "      <td>1.904852</td>\n",
       "      <td>AFC</td>\n",
       "      <td>train</td>\n",
       "    </tr>\n",
       "    <tr>\n",
       "      <th>4</th>\n",
       "      <td>0</td>\n",
       "      <td>RS</td>\n",
       "      <td>real</td>\n",
       "      <td>topeme</td>\n",
       "      <td>terka</td>\n",
       "      <td>right</td>\n",
       "      <td>1.0</td>\n",
       "      <td>1.839869</td>\n",
       "      <td>AFC</td>\n",
       "      <td>train</td>\n",
       "    </tr>\n",
       "  </tbody>\n",
       "</table>\n",
       "</div>"
      ],
      "text/plain": [
       "   participant stim_order condition       AL       L1 answer  score        RT  \\\n",
       "0            0         RS      real  derartu  samolet   down    1.0  2.541925   \n",
       "1            0         RS      real    asamu  shprits  right    1.0  1.794262   \n",
       "2            0         RS      real   farimu  konvert   down    1.0  1.989078   \n",
       "3            0         RS      real  vortule     roza   left    1.0  1.904852   \n",
       "4            0         RS      real   topeme    terka  right    1.0  1.839869   \n",
       "\n",
       "  task session  \n",
       "0  AFC   train  \n",
       "1  AFC   train  \n",
       "2  AFC   train  \n",
       "3  AFC   train  \n",
       "4  AFC   train  "
      ]
     },
     "execution_count": 130,
     "metadata": {},
     "output_type": "execute_result"
    }
   ],
   "source": [
    "df = pd.read_excel('data_lecture_3_tACS.xlsx')\n",
    "df.head()"
   ]
  },
  {
   "cell_type": "markdown",
   "metadata": {},
   "source": [
    "**Графики распределения данных score, RT:**"
   ]
  },
  {
   "cell_type": "code",
   "execution_count": 131,
   "metadata": {
    "scrolled": false
   },
   "outputs": [
    {
     "data": {
      "image/png": "[encoded data removed]",
      "text/plain": [
       "<Figure size 864x360 with 2 Axes>"
      ]
     },
     "metadata": {},
     "output_type": "display_data"
    }
   ],
   "source": [
    "sns.set(rc={'figure.figsize':(12,5)})\n",
    "\n",
    "ax=df[['score','RT']].hist(color='orange' )"
   ]
  },
  {
   "cell_type": "markdown",
   "metadata": {},
   "source": [
    "Комментарий от преподавателя по поводу небинарных значений score: _\"1 - верный, все остальное неверное\"_\n",
    "\n",
    "Думаю, имеет смысл сразу заменить все score < 1 на 0:"
   ]
  },
  {
   "cell_type": "code",
   "execution_count": 132,
   "metadata": {},
   "outputs": [],
   "source": [
    "df.loc[df['score'] < 1, 'score'] = 0"
   ]
  },
  {
   "cell_type": "markdown",
   "metadata": {},
   "source": [
    "Проверяем:"
   ]
  },
  {
   "cell_type": "code",
   "execution_count": 133,
   "metadata": {},
   "outputs": [
    {
     "data": {
      "text/plain": [
       "array([ 1.,  0., nan])"
      ]
     },
     "execution_count": 133,
     "metadata": {},
     "output_type": "execute_result"
    }
   ],
   "source": [
    "df['score'].unique()"
   ]
  },
  {
   "cell_type": "markdown",
   "metadata": {},
   "source": [
    "Супер! **Новый график распределения score:**"
   ]
  },
  {
   "cell_type": "code",
   "execution_count": 134,
   "metadata": {},
   "outputs": [
    {
     "data": {
      "image/png": "[encoded data removed]",
      "text/plain": [
       "<Figure size 360x360 with 1 Axes>"
      ]
     },
     "metadata": {},
     "output_type": "display_data"
    }
   ],
   "source": [
    "sns.set(rc={'figure.figsize':(5,5)})\n",
    "\n",
    "ax=df['score'].hist(color='orange' )"
   ]
  },
  {
   "cell_type": "markdown",
   "metadata": {},
   "source": [
    "**Независимые переменные:** condition, stim_order\n",
    "\n",
    "**Зависимые переменные:** score, RT\n",
    "\n",
    "**Межгрупповые переменные:** condition\n",
    "\n",
    "**Внутригрупповые переменные:** stim_order, task, session"
   ]
  },
  {
   "cell_type": "markdown",
   "metadata": {},
   "source": [
    "**Делим данные на выборки.** Я буду делить по condition на 2 выборки соответственно:"
   ]
  },
  {
   "cell_type": "code",
   "execution_count": 135,
   "metadata": {
    "scrolled": true
   },
   "outputs": [
    {
     "data": {
      "text/html": [
       "<div>\n",
       "<style scoped>\n",
       "    .dataframe tbody tr th:only-of-type {\n",
       "        vertical-align: middle;\n",
       "    }\n",
       "\n",
       "    .dataframe tbody tr th {\n",
       "        vertical-align: top;\n",
       "    }\n",
       "\n",
       "    .dataframe thead th {\n",
       "        text-align: right;\n",
       "    }\n",
       "</style>\n",
       "<table border=\"1\" class=\"dataframe\">\n",
       "  <thead>\n",
       "    <tr style=\"text-align: right;\">\n",
       "      <th></th>\n",
       "      <th>participant</th>\n",
       "      <th>stim_order</th>\n",
       "      <th>condition</th>\n",
       "      <th>AL</th>\n",
       "      <th>L1</th>\n",
       "      <th>answer</th>\n",
       "      <th>score</th>\n",
       "      <th>RT</th>\n",
       "      <th>task</th>\n",
       "      <th>session</th>\n",
       "    </tr>\n",
       "  </thead>\n",
       "  <tbody>\n",
       "    <tr>\n",
       "      <th>0</th>\n",
       "      <td>0</td>\n",
       "      <td>RS</td>\n",
       "      <td>real</td>\n",
       "      <td>derartu</td>\n",
       "      <td>samolet</td>\n",
       "      <td>down</td>\n",
       "      <td>1.0</td>\n",
       "      <td>2.541925</td>\n",
       "      <td>AFC</td>\n",
       "      <td>train</td>\n",
       "    </tr>\n",
       "    <tr>\n",
       "      <th>1</th>\n",
       "      <td>0</td>\n",
       "      <td>RS</td>\n",
       "      <td>real</td>\n",
       "      <td>asamu</td>\n",
       "      <td>shprits</td>\n",
       "      <td>right</td>\n",
       "      <td>1.0</td>\n",
       "      <td>1.794262</td>\n",
       "      <td>AFC</td>\n",
       "      <td>train</td>\n",
       "    </tr>\n",
       "    <tr>\n",
       "      <th>2</th>\n",
       "      <td>0</td>\n",
       "      <td>RS</td>\n",
       "      <td>real</td>\n",
       "      <td>farimu</td>\n",
       "      <td>konvert</td>\n",
       "      <td>down</td>\n",
       "      <td>1.0</td>\n",
       "      <td>1.989078</td>\n",
       "      <td>AFC</td>\n",
       "      <td>train</td>\n",
       "    </tr>\n",
       "    <tr>\n",
       "      <th>3</th>\n",
       "      <td>0</td>\n",
       "      <td>RS</td>\n",
       "      <td>real</td>\n",
       "      <td>vortule</td>\n",
       "      <td>roza</td>\n",
       "      <td>left</td>\n",
       "      <td>1.0</td>\n",
       "      <td>1.904852</td>\n",
       "      <td>AFC</td>\n",
       "      <td>train</td>\n",
       "    </tr>\n",
       "    <tr>\n",
       "      <th>4</th>\n",
       "      <td>0</td>\n",
       "      <td>RS</td>\n",
       "      <td>real</td>\n",
       "      <td>topeme</td>\n",
       "      <td>terka</td>\n",
       "      <td>right</td>\n",
       "      <td>1.0</td>\n",
       "      <td>1.839869</td>\n",
       "      <td>AFC</td>\n",
       "      <td>train</td>\n",
       "    </tr>\n",
       "  </tbody>\n",
       "</table>\n",
       "</div>"
      ],
      "text/plain": [
       "   participant stim_order condition       AL       L1 answer  score        RT  \\\n",
       "0            0         RS      real  derartu  samolet   down    1.0  2.541925   \n",
       "1            0         RS      real    asamu  shprits  right    1.0  1.794262   \n",
       "2            0         RS      real   farimu  konvert   down    1.0  1.989078   \n",
       "3            0         RS      real  vortule     roza   left    1.0  1.904852   \n",
       "4            0         RS      real   topeme    terka  right    1.0  1.839869   \n",
       "\n",
       "  task session  \n",
       "0  AFC   train  \n",
       "1  AFC   train  \n",
       "2  AFC   train  \n",
       "3  AFC   train  \n",
       "4  AFC   train  "
      ]
     },
     "execution_count": 135,
     "metadata": {},
     "output_type": "execute_result"
    }
   ],
   "source": [
    "expr_df = df.loc[(df['condition'] == 'real')] # настоящая стимуляция, экспериментальная выборка\n",
    "expr_df.head()"
   ]
  },
  {
   "cell_type": "code",
   "execution_count": 136,
   "metadata": {
    "scrolled": true
   },
   "outputs": [
    {
     "data": {
      "text/html": [
       "<div>\n",
       "<style scoped>\n",
       "    .dataframe tbody tr th:only-of-type {\n",
       "        vertical-align: middle;\n",
       "    }\n",
       "\n",
       "    .dataframe tbody tr th {\n",
       "        vertical-align: top;\n",
       "    }\n",
       "\n",
       "    .dataframe thead th {\n",
       "        text-align: right;\n",
       "    }\n",
       "</style>\n",
       "<table border=\"1\" class=\"dataframe\">\n",
       "  <thead>\n",
       "    <tr style=\"text-align: right;\">\n",
       "      <th></th>\n",
       "      <th>participant</th>\n",
       "      <th>stim_order</th>\n",
       "      <th>condition</th>\n",
       "      <th>AL</th>\n",
       "      <th>L1</th>\n",
       "      <th>answer</th>\n",
       "      <th>score</th>\n",
       "      <th>RT</th>\n",
       "      <th>task</th>\n",
       "      <th>session</th>\n",
       "    </tr>\n",
       "  </thead>\n",
       "  <tbody>\n",
       "    <tr>\n",
       "      <th>37</th>\n",
       "      <td>0</td>\n",
       "      <td>RS</td>\n",
       "      <td>sham</td>\n",
       "      <td>enkalu</td>\n",
       "      <td>svetofor</td>\n",
       "      <td>down</td>\n",
       "      <td>1.0</td>\n",
       "      <td>1.741873</td>\n",
       "      <td>AFC</td>\n",
       "      <td>train</td>\n",
       "    </tr>\n",
       "    <tr>\n",
       "      <th>38</th>\n",
       "      <td>0</td>\n",
       "      <td>RS</td>\n",
       "      <td>sham</td>\n",
       "      <td>akastu</td>\n",
       "      <td>jakor'</td>\n",
       "      <td>right</td>\n",
       "      <td>1.0</td>\n",
       "      <td>1.502057</td>\n",
       "      <td>AFC</td>\n",
       "      <td>train</td>\n",
       "    </tr>\n",
       "    <tr>\n",
       "      <th>39</th>\n",
       "      <td>0</td>\n",
       "      <td>RS</td>\n",
       "      <td>sham</td>\n",
       "      <td>kaltane</td>\n",
       "      <td>kogot'</td>\n",
       "      <td>down</td>\n",
       "      <td>1.0</td>\n",
       "      <td>0.846658</td>\n",
       "      <td>AFC</td>\n",
       "      <td>train</td>\n",
       "    </tr>\n",
       "    <tr>\n",
       "      <th>40</th>\n",
       "      <td>0</td>\n",
       "      <td>RS</td>\n",
       "      <td>sham</td>\n",
       "      <td>venkere</td>\n",
       "      <td>sapog</td>\n",
       "      <td>left</td>\n",
       "      <td>1.0</td>\n",
       "      <td>1.813993</td>\n",
       "      <td>AFC</td>\n",
       "      <td>train</td>\n",
       "    </tr>\n",
       "    <tr>\n",
       "      <th>41</th>\n",
       "      <td>0</td>\n",
       "      <td>RS</td>\n",
       "      <td>sham</td>\n",
       "      <td>tivere</td>\n",
       "      <td>uho</td>\n",
       "      <td>right</td>\n",
       "      <td>1.0</td>\n",
       "      <td>0.957222</td>\n",
       "      <td>AFC</td>\n",
       "      <td>train</td>\n",
       "    </tr>\n",
       "  </tbody>\n",
       "</table>\n",
       "</div>"
      ],
      "text/plain": [
       "    participant stim_order condition       AL        L1 answer  score  \\\n",
       "37            0         RS      sham   enkalu  svetofor   down    1.0   \n",
       "38            0         RS      sham   akastu    jakor'  right    1.0   \n",
       "39            0         RS      sham  kaltane    kogot'   down    1.0   \n",
       "40            0         RS      sham  venkere     sapog   left    1.0   \n",
       "41            0         RS      sham   tivere       uho  right    1.0   \n",
       "\n",
       "          RT task session  \n",
       "37  1.741873  AFC   train  \n",
       "38  1.502057  AFC   train  \n",
       "39  0.846658  AFC   train  \n",
       "40  1.813993  AFC   train  \n",
       "41  0.957222  AFC   train  "
      ]
     },
     "execution_count": 136,
     "metadata": {},
     "output_type": "execute_result"
    }
   ],
   "source": [
    "cntrl_df = df.loc[(df['condition'] == 'sham')] # плацебо стимуляция, контрольная выборка\n",
    "cntrl_df.head()"
   ]
  },
  {
   "cell_type": "code",
   "execution_count": 137,
   "metadata": {},
   "outputs": [
    {
     "name": "stdout",
     "output_type": "stream",
     "text": [
      "(8880, 10)\n",
      "(8880, 10)\n"
     ]
    }
   ],
   "source": [
    "print(expr_df.shape)\n",
    "print(cntrl_df.shape)"
   ]
  },
  {
   "cell_type": "markdown",
   "metadata": {},
   "source": [
    "Получилось поровну!"
   ]
  },
  {
   "cell_type": "markdown",
   "metadata": {},
   "source": [
    "**Для всего массива данных рассчитаем: медиану (50%), среднее (mean), стандартное отклонение (std), максимальные (max) и минимальные значения (min)**"
   ]
  },
  {
   "cell_type": "code",
   "execution_count": 138,
   "metadata": {
    "scrolled": true
   },
   "outputs": [
    {
     "data": {
      "text/html": [
       "<div>\n",
       "<style scoped>\n",
       "    .dataframe tbody tr th:only-of-type {\n",
       "        vertical-align: middle;\n",
       "    }\n",
       "\n",
       "    .dataframe tbody tr th {\n",
       "        vertical-align: top;\n",
       "    }\n",
       "\n",
       "    .dataframe thead th {\n",
       "        text-align: right;\n",
       "    }\n",
       "</style>\n",
       "<table border=\"1\" class=\"dataframe\">\n",
       "  <thead>\n",
       "    <tr style=\"text-align: right;\">\n",
       "      <th></th>\n",
       "      <th>score</th>\n",
       "      <th>RT</th>\n",
       "    </tr>\n",
       "  </thead>\n",
       "  <tbody>\n",
       "    <tr>\n",
       "      <th>count</th>\n",
       "      <td>13986.000000</td>\n",
       "      <td>13986.000000</td>\n",
       "    </tr>\n",
       "    <tr>\n",
       "      <th>mean</th>\n",
       "      <td>0.599314</td>\n",
       "      <td>3.005942</td>\n",
       "    </tr>\n",
       "    <tr>\n",
       "      <th>std</th>\n",
       "      <td>0.490055</td>\n",
       "      <td>2.096666</td>\n",
       "    </tr>\n",
       "    <tr>\n",
       "      <th>min</th>\n",
       "      <td>0.000000</td>\n",
       "      <td>0.010000</td>\n",
       "    </tr>\n",
       "    <tr>\n",
       "      <th>25%</th>\n",
       "      <td>0.000000</td>\n",
       "      <td>1.628720</td>\n",
       "    </tr>\n",
       "    <tr>\n",
       "      <th>50%</th>\n",
       "      <td>1.000000</td>\n",
       "      <td>2.264102</td>\n",
       "    </tr>\n",
       "    <tr>\n",
       "      <th>75%</th>\n",
       "      <td>1.000000</td>\n",
       "      <td>3.410612</td>\n",
       "    </tr>\n",
       "    <tr>\n",
       "      <th>max</th>\n",
       "      <td>1.000000</td>\n",
       "      <td>9.966082</td>\n",
       "    </tr>\n",
       "  </tbody>\n",
       "</table>\n",
       "</div>"
      ],
      "text/plain": [
       "              score            RT\n",
       "count  13986.000000  13986.000000\n",
       "mean       0.599314      3.005942\n",
       "std        0.490055      2.096666\n",
       "min        0.000000      0.010000\n",
       "25%        0.000000      1.628720\n",
       "50%        1.000000      2.264102\n",
       "75%        1.000000      3.410612\n",
       "max        1.000000      9.966082"
      ]
     },
     "execution_count": 138,
     "metadata": {},
     "output_type": "execute_result"
    }
   ],
   "source": [
    "df[['score', 'RT']].describe()"
   ]
  },
  {
   "cell_type": "markdown",
   "metadata": {},
   "source": [
    "Отдельно рассчитываем **эти же показатели для выборок:**"
   ]
  },
  {
   "cell_type": "code",
   "execution_count": 139,
   "metadata": {
    "scrolled": true
   },
   "outputs": [
    {
     "data": {
      "text/html": [
       "<div>\n",
       "<style scoped>\n",
       "    .dataframe tbody tr th:only-of-type {\n",
       "        vertical-align: middle;\n",
       "    }\n",
       "\n",
       "    .dataframe tbody tr th {\n",
       "        vertical-align: top;\n",
       "    }\n",
       "\n",
       "    .dataframe thead th {\n",
       "        text-align: right;\n",
       "    }\n",
       "</style>\n",
       "<table border=\"1\" class=\"dataframe\">\n",
       "  <thead>\n",
       "    <tr style=\"text-align: right;\">\n",
       "      <th></th>\n",
       "      <th>score</th>\n",
       "      <th>RT</th>\n",
       "    </tr>\n",
       "  </thead>\n",
       "  <tbody>\n",
       "    <tr>\n",
       "      <th>count</th>\n",
       "      <td>7009.000000</td>\n",
       "      <td>7009.000000</td>\n",
       "    </tr>\n",
       "    <tr>\n",
       "      <th>mean</th>\n",
       "      <td>0.599658</td>\n",
       "      <td>3.010420</td>\n",
       "    </tr>\n",
       "    <tr>\n",
       "      <th>std</th>\n",
       "      <td>0.490003</td>\n",
       "      <td>2.103503</td>\n",
       "    </tr>\n",
       "    <tr>\n",
       "      <th>min</th>\n",
       "      <td>0.000000</td>\n",
       "      <td>0.010000</td>\n",
       "    </tr>\n",
       "    <tr>\n",
       "      <th>25%</th>\n",
       "      <td>0.000000</td>\n",
       "      <td>1.627030</td>\n",
       "    </tr>\n",
       "    <tr>\n",
       "      <th>50%</th>\n",
       "      <td>1.000000</td>\n",
       "      <td>2.274597</td>\n",
       "    </tr>\n",
       "    <tr>\n",
       "      <th>75%</th>\n",
       "      <td>1.000000</td>\n",
       "      <td>3.414376</td>\n",
       "    </tr>\n",
       "    <tr>\n",
       "      <th>max</th>\n",
       "      <td>1.000000</td>\n",
       "      <td>9.965174</td>\n",
       "    </tr>\n",
       "  </tbody>\n",
       "</table>\n",
       "</div>"
      ],
      "text/plain": [
       "             score           RT\n",
       "count  7009.000000  7009.000000\n",
       "mean      0.599658     3.010420\n",
       "std       0.490003     2.103503\n",
       "min       0.000000     0.010000\n",
       "25%       0.000000     1.627030\n",
       "50%       1.000000     2.274597\n",
       "75%       1.000000     3.414376\n",
       "max       1.000000     9.965174"
      ]
     },
     "execution_count": 139,
     "metadata": {},
     "output_type": "execute_result"
    }
   ],
   "source": [
    "expr_df[['score', 'RT']].describe()"
   ]
  },
  {
   "cell_type": "code",
   "execution_count": 140,
   "metadata": {},
   "outputs": [
    {
     "data": {
      "text/html": [
       "<div>\n",
       "<style scoped>\n",
       "    .dataframe tbody tr th:only-of-type {\n",
       "        vertical-align: middle;\n",
       "    }\n",
       "\n",
       "    .dataframe tbody tr th {\n",
       "        vertical-align: top;\n",
       "    }\n",
       "\n",
       "    .dataframe thead th {\n",
       "        text-align: right;\n",
       "    }\n",
       "</style>\n",
       "<table border=\"1\" class=\"dataframe\">\n",
       "  <thead>\n",
       "    <tr style=\"text-align: right;\">\n",
       "      <th></th>\n",
       "      <th>score</th>\n",
       "      <th>RT</th>\n",
       "    </tr>\n",
       "  </thead>\n",
       "  <tbody>\n",
       "    <tr>\n",
       "      <th>count</th>\n",
       "      <td>6977.000000</td>\n",
       "      <td>6977.000000</td>\n",
       "    </tr>\n",
       "    <tr>\n",
       "      <th>mean</th>\n",
       "      <td>0.598968</td>\n",
       "      <td>3.001444</td>\n",
       "    </tr>\n",
       "    <tr>\n",
       "      <th>std</th>\n",
       "      <td>0.490143</td>\n",
       "      <td>2.089916</td>\n",
       "    </tr>\n",
       "    <tr>\n",
       "      <th>min</th>\n",
       "      <td>0.000000</td>\n",
       "      <td>0.037574</td>\n",
       "    </tr>\n",
       "    <tr>\n",
       "      <th>25%</th>\n",
       "      <td>0.000000</td>\n",
       "      <td>1.629681</td>\n",
       "    </tr>\n",
       "    <tr>\n",
       "      <th>50%</th>\n",
       "      <td>1.000000</td>\n",
       "      <td>2.254840</td>\n",
       "    </tr>\n",
       "    <tr>\n",
       "      <th>75%</th>\n",
       "      <td>1.000000</td>\n",
       "      <td>3.405639</td>\n",
       "    </tr>\n",
       "    <tr>\n",
       "      <th>max</th>\n",
       "      <td>1.000000</td>\n",
       "      <td>9.966082</td>\n",
       "    </tr>\n",
       "  </tbody>\n",
       "</table>\n",
       "</div>"
      ],
      "text/plain": [
       "             score           RT\n",
       "count  6977.000000  6977.000000\n",
       "mean      0.598968     3.001444\n",
       "std       0.490143     2.089916\n",
       "min       0.000000     0.037574\n",
       "25%       0.000000     1.629681\n",
       "50%       1.000000     2.254840\n",
       "75%       1.000000     3.405639\n",
       "max       1.000000     9.966082"
      ]
     },
     "execution_count": 140,
     "metadata": {},
     "output_type": "execute_result"
    }
   ],
   "source": [
    "cntrl_df[['score', 'RT']].describe()"
   ]
  },
  {
   "cell_type": "markdown",
   "metadata": {},
   "source": [
    "_Комментарий: все важные показатели у двух выборок совпадают... неужели наличие или отсутствие стимуляции практически не влияет ни на точность, ни на скорость реакции?_"
   ]
  },
  {
   "cell_type": "markdown",
   "metadata": {},
   "source": [
    "**Графики распределения для экспериментальной и контрольной выборок соответсвенно:**"
   ]
  },
  {
   "cell_type": "code",
   "execution_count": 141,
   "metadata": {},
   "outputs": [
    {
     "data": {
      "image/png": "[encoded data removed]",
      "text/plain": [
       "<Figure size 864x360 with 2 Axes>"
      ]
     },
     "metadata": {},
     "output_type": "display_data"
    }
   ],
   "source": [
    "sns.set(rc={'figure.figsize':(12,5)})\n",
    "\n",
    "ax=expr_df[['score','RT']].hist(color='orange' )"
   ]
  },
  {
   "cell_type": "code",
   "execution_count": 142,
   "metadata": {},
   "outputs": [
    {
     "data": {
      "image/png": "[encoded data removed]",
      "text/plain": [
       "<Figure size 864x360 with 2 Axes>"
      ]
     },
     "metadata": {},
     "output_type": "display_data"
    }
   ],
   "source": [
    "sns.set(rc={'figure.figsize':(12,5)})\n",
    "\n",
    "ax=cntrl_df[['score','RT']].hist(color='orange' )"
   ]
  },
  {
   "cell_type": "markdown",
   "metadata": {},
   "source": [
    "_Комментарий: графики тоже выглядят идентично... Причинами недостаточного межгруппового различия, помимо отсутствия эффекта, могут быть: (1) слишком большая вариативность внутри групп, которая \"прячет\" эффект; (2) мера score, например, недостаточно чувствительная: нужно больше уровней переменной (сейчас только два: 1 и 0), чтобы улавливать изменения.. может, стоило бы смотреть на score как на непрерывную величину; (3) дизайн эксперимента таков, что между экспериментальной и контрольной группой недостаточная разница (т.е. манипуляция со стороны исследователей слишком слабая), поэтому эффект не наблюдается_"
   ]
  },
  {
   "cell_type": "markdown",
   "metadata": {},
   "source": [
    "**Ради интереса попробуем разделить данные на 4 выборки по 2м переменным condition и stim_order:** \n",
    "1. экспериментальная подгруппа RS\n",
    "2. экспериментальная подгруппа SR\n",
    "3. контрольная подгруппа RS\n",
    "4. контрольная подгруппа SR"
   ]
  },
  {
   "cell_type": "code",
   "execution_count": 143,
   "metadata": {},
   "outputs": [],
   "source": [
    "RS_expr_df = expr_df.loc[(expr_df['stim_order'] == 'RS')] # группа 1\n",
    "SR_expr_df = expr_df.loc[(expr_df['stim_order'] == 'SR')] # группа 2\n",
    "RS_cntrl_df = cntrl_df.loc[(cntrl_df['stim_order'] == 'RS')] # группа 3\n",
    "SR_cntrl_df = cntrl_df.loc[(cntrl_df['stim_order'] == 'SR')] # группа 4"
   ]
  },
  {
   "cell_type": "code",
   "execution_count": 149,
   "metadata": {
    "scrolled": true
   },
   "outputs": [
    {
     "data": {
      "text/html": [
       "<div>\n",
       "<style scoped>\n",
       "    .dataframe tbody tr th:only-of-type {\n",
       "        vertical-align: middle;\n",
       "    }\n",
       "\n",
       "    .dataframe tbody tr th {\n",
       "        vertical-align: top;\n",
       "    }\n",
       "\n",
       "    .dataframe thead th {\n",
       "        text-align: right;\n",
       "    }\n",
       "</style>\n",
       "<table border=\"1\" class=\"dataframe\">\n",
       "  <thead>\n",
       "    <tr style=\"text-align: right;\">\n",
       "      <th></th>\n",
       "      <th>score</th>\n",
       "      <th>RT</th>\n",
       "    </tr>\n",
       "  </thead>\n",
       "  <tbody>\n",
       "    <tr>\n",
       "      <th>count</th>\n",
       "      <td>3596.000000</td>\n",
       "      <td>3596.000000</td>\n",
       "    </tr>\n",
       "    <tr>\n",
       "      <th>mean</th>\n",
       "      <td>0.603726</td>\n",
       "      <td>3.146460</td>\n",
       "    </tr>\n",
       "    <tr>\n",
       "      <th>std</th>\n",
       "      <td>0.489191</td>\n",
       "      <td>2.157042</td>\n",
       "    </tr>\n",
       "    <tr>\n",
       "      <th>min</th>\n",
       "      <td>0.000000</td>\n",
       "      <td>0.578276</td>\n",
       "    </tr>\n",
       "    <tr>\n",
       "      <th>25%</th>\n",
       "      <td>0.000000</td>\n",
       "      <td>1.718379</td>\n",
       "    </tr>\n",
       "    <tr>\n",
       "      <th>50%</th>\n",
       "      <td>1.000000</td>\n",
       "      <td>2.335478</td>\n",
       "    </tr>\n",
       "    <tr>\n",
       "      <th>75%</th>\n",
       "      <td>1.000000</td>\n",
       "      <td>3.653529</td>\n",
       "    </tr>\n",
       "    <tr>\n",
       "      <th>max</th>\n",
       "      <td>1.000000</td>\n",
       "      <td>9.965174</td>\n",
       "    </tr>\n",
       "  </tbody>\n",
       "</table>\n",
       "</div>"
      ],
      "text/plain": [
       "             score           RT\n",
       "count  3596.000000  3596.000000\n",
       "mean      0.603726     3.146460\n",
       "std       0.489191     2.157042\n",
       "min       0.000000     0.578276\n",
       "25%       0.000000     1.718379\n",
       "50%       1.000000     2.335478\n",
       "75%       1.000000     3.653529\n",
       "max       1.000000     9.965174"
      ]
     },
     "execution_count": 149,
     "metadata": {},
     "output_type": "execute_result"
    }
   ],
   "source": [
    "# 1. экспериментальная подгруппа RS\n",
    "\n",
    "RS_expr_df[['score', 'RT']].describe()"
   ]
  },
  {
   "cell_type": "code",
   "execution_count": 145,
   "metadata": {
    "scrolled": true
   },
   "outputs": [
    {
     "data": {
      "text/html": [
       "<div>\n",
       "<style scoped>\n",
       "    .dataframe tbody tr th:only-of-type {\n",
       "        vertical-align: middle;\n",
       "    }\n",
       "\n",
       "    .dataframe tbody tr th {\n",
       "        vertical-align: top;\n",
       "    }\n",
       "\n",
       "    .dataframe thead th {\n",
       "        text-align: right;\n",
       "    }\n",
       "</style>\n",
       "<table border=\"1\" class=\"dataframe\">\n",
       "  <thead>\n",
       "    <tr style=\"text-align: right;\">\n",
       "      <th></th>\n",
       "      <th>score</th>\n",
       "      <th>RT</th>\n",
       "    </tr>\n",
       "  </thead>\n",
       "  <tbody>\n",
       "    <tr>\n",
       "      <th>count</th>\n",
       "      <td>3413.000000</td>\n",
       "      <td>3413.000000</td>\n",
       "    </tr>\n",
       "    <tr>\n",
       "      <th>mean</th>\n",
       "      <td>0.595371</td>\n",
       "      <td>2.867085</td>\n",
       "    </tr>\n",
       "    <tr>\n",
       "      <th>std</th>\n",
       "      <td>0.490892</td>\n",
       "      <td>2.036081</td>\n",
       "    </tr>\n",
       "    <tr>\n",
       "      <th>min</th>\n",
       "      <td>0.000000</td>\n",
       "      <td>0.010000</td>\n",
       "    </tr>\n",
       "    <tr>\n",
       "      <th>25%</th>\n",
       "      <td>0.000000</td>\n",
       "      <td>1.522900</td>\n",
       "    </tr>\n",
       "    <tr>\n",
       "      <th>50%</th>\n",
       "      <td>1.000000</td>\n",
       "      <td>2.200777</td>\n",
       "    </tr>\n",
       "    <tr>\n",
       "      <th>75%</th>\n",
       "      <td>1.000000</td>\n",
       "      <td>3.274236</td>\n",
       "    </tr>\n",
       "    <tr>\n",
       "      <th>max</th>\n",
       "      <td>1.000000</td>\n",
       "      <td>9.964927</td>\n",
       "    </tr>\n",
       "  </tbody>\n",
       "</table>\n",
       "</div>"
      ],
      "text/plain": [
       "             score           RT\n",
       "count  3413.000000  3413.000000\n",
       "mean      0.595371     2.867085\n",
       "std       0.490892     2.036081\n",
       "min       0.000000     0.010000\n",
       "25%       0.000000     1.522900\n",
       "50%       1.000000     2.200777\n",
       "75%       1.000000     3.274236\n",
       "max       1.000000     9.964927"
      ]
     },
     "execution_count": 145,
     "metadata": {},
     "output_type": "execute_result"
    }
   ],
   "source": [
    "# 2. экспериментальная подгруппа SR\n",
    "\n",
    "SR_expr_df[['score', 'RT']].describe()"
   ]
  },
  {
   "cell_type": "markdown",
   "metadata": {},
   "source": [
    "_Комментарий (1 VS 2): в экспериментальной группе в среднем время реакции примерно на 279 миллисекунды меньше у подгруппы, где настоящая стимуляция происходила после плацебо-стимуляции (SR). При этом средняя точность у RS и SR подгрупп практически одинаковая. Медиана времени реакции в подгруппе SR смещена левее (в меньшую сторону) примерно на 135 миллисекунд, чем у подгруппы RS, при этом максимальное время реакции у подгрупп практически одинаковое, а минимальное - меньше у SR на 568 миллисекунд по сравнению с подгруппой RS (хотя, возможно, минимум в 10 миллисекунд - это выброс). Таким образом напрашивается вывод, что внутри экспериментальной группы разница в порядке стимуляций не влияет на точность ответов, но влияет на время реакции так, что участники, прошедшие сначала плацебо, а потом реальную стимуляию (SR), отвечают быстрее. Возможно, это показывает, что во время контрольных испытаний с плацебо-стимуляцией они успели приноровиться к заданиям и стали увереннее ко второму, экспериментальному этапу._"
   ]
  },
  {
   "cell_type": "code",
   "execution_count": 146,
   "metadata": {},
   "outputs": [
    {
     "data": {
      "text/html": [
       "<div>\n",
       "<style scoped>\n",
       "    .dataframe tbody tr th:only-of-type {\n",
       "        vertical-align: middle;\n",
       "    }\n",
       "\n",
       "    .dataframe tbody tr th {\n",
       "        vertical-align: top;\n",
       "    }\n",
       "\n",
       "    .dataframe thead th {\n",
       "        text-align: right;\n",
       "    }\n",
       "</style>\n",
       "<table border=\"1\" class=\"dataframe\">\n",
       "  <thead>\n",
       "    <tr style=\"text-align: right;\">\n",
       "      <th></th>\n",
       "      <th>score</th>\n",
       "      <th>RT</th>\n",
       "    </tr>\n",
       "  </thead>\n",
       "  <tbody>\n",
       "    <tr>\n",
       "      <th>count</th>\n",
       "      <td>3548.000000</td>\n",
       "      <td>3548.000000</td>\n",
       "    </tr>\n",
       "    <tr>\n",
       "      <th>mean</th>\n",
       "      <td>0.584273</td>\n",
       "      <td>2.917775</td>\n",
       "    </tr>\n",
       "    <tr>\n",
       "      <th>std</th>\n",
       "      <td>0.492916</td>\n",
       "      <td>2.035658</td>\n",
       "    </tr>\n",
       "    <tr>\n",
       "      <th>min</th>\n",
       "      <td>0.000000</td>\n",
       "      <td>0.057000</td>\n",
       "    </tr>\n",
       "    <tr>\n",
       "      <th>25%</th>\n",
       "      <td>0.000000</td>\n",
       "      <td>1.571825</td>\n",
       "    </tr>\n",
       "    <tr>\n",
       "      <th>50%</th>\n",
       "      <td>1.000000</td>\n",
       "      <td>2.218797</td>\n",
       "    </tr>\n",
       "    <tr>\n",
       "      <th>75%</th>\n",
       "      <td>1.000000</td>\n",
       "      <td>3.401556</td>\n",
       "    </tr>\n",
       "    <tr>\n",
       "      <th>max</th>\n",
       "      <td>1.000000</td>\n",
       "      <td>9.966082</td>\n",
       "    </tr>\n",
       "  </tbody>\n",
       "</table>\n",
       "</div>"
      ],
      "text/plain": [
       "             score           RT\n",
       "count  3548.000000  3548.000000\n",
       "mean      0.584273     2.917775\n",
       "std       0.492916     2.035658\n",
       "min       0.000000     0.057000\n",
       "25%       0.000000     1.571825\n",
       "50%       1.000000     2.218797\n",
       "75%       1.000000     3.401556\n",
       "max       1.000000     9.966082"
      ]
     },
     "execution_count": 146,
     "metadata": {},
     "output_type": "execute_result"
    }
   ],
   "source": [
    "# 3. контрольная подгруппа RS\n",
    "\n",
    "RS_cntrl_df[['score', 'RT']].describe()"
   ]
  },
  {
   "cell_type": "markdown",
   "metadata": {},
   "source": [
    "_Комментарий (1 VS 3): в группе RS у экспериментальной и контрольной подгрупп практически не отличается динамика точности ответов. Среднее время реакции примерно на 229 милисекунд меньше у контрольной подгруппы. Максимальное время реакции у двух подгрупп практически одинаковое, минимальное примерно на 521 миллисекунду меньше у контрольной подгруппы RS. Медиана при этом также смещена на 117 миллисекунд левее (в меньшую сторону) у контрольной подгруппы RS. Эти данные подкрепляют гипотезу о том, что эффекта от стимуляции практически нет (либо он не виден на этих данных), а колебания во времени реакции связаны с возрастающей уверенностью участников ко второму туру испытаний._"
   ]
  },
  {
   "cell_type": "code",
   "execution_count": 147,
   "metadata": {},
   "outputs": [
    {
     "data": {
      "text/html": [
       "<div>\n",
       "<style scoped>\n",
       "    .dataframe tbody tr th:only-of-type {\n",
       "        vertical-align: middle;\n",
       "    }\n",
       "\n",
       "    .dataframe tbody tr th {\n",
       "        vertical-align: top;\n",
       "    }\n",
       "\n",
       "    .dataframe thead th {\n",
       "        text-align: right;\n",
       "    }\n",
       "</style>\n",
       "<table border=\"1\" class=\"dataframe\">\n",
       "  <thead>\n",
       "    <tr style=\"text-align: right;\">\n",
       "      <th></th>\n",
       "      <th>score</th>\n",
       "      <th>RT</th>\n",
       "    </tr>\n",
       "  </thead>\n",
       "  <tbody>\n",
       "    <tr>\n",
       "      <th>count</th>\n",
       "      <td>3429.000000</td>\n",
       "      <td>3429.000000</td>\n",
       "    </tr>\n",
       "    <tr>\n",
       "      <th>mean</th>\n",
       "      <td>0.614173</td>\n",
       "      <td>3.088017</td>\n",
       "    </tr>\n",
       "    <tr>\n",
       "      <th>std</th>\n",
       "      <td>0.486861</td>\n",
       "      <td>2.141471</td>\n",
       "    </tr>\n",
       "    <tr>\n",
       "      <th>min</th>\n",
       "      <td>0.000000</td>\n",
       "      <td>0.037574</td>\n",
       "    </tr>\n",
       "    <tr>\n",
       "      <th>25%</th>\n",
       "      <td>0.000000</td>\n",
       "      <td>1.701730</td>\n",
       "    </tr>\n",
       "    <tr>\n",
       "      <th>50%</th>\n",
       "      <td>1.000000</td>\n",
       "      <td>2.287795</td>\n",
       "    </tr>\n",
       "    <tr>\n",
       "      <th>75%</th>\n",
       "      <td>1.000000</td>\n",
       "      <td>3.405639</td>\n",
       "    </tr>\n",
       "    <tr>\n",
       "      <th>max</th>\n",
       "      <td>1.000000</td>\n",
       "      <td>9.950723</td>\n",
       "    </tr>\n",
       "  </tbody>\n",
       "</table>\n",
       "</div>"
      ],
      "text/plain": [
       "             score           RT\n",
       "count  3429.000000  3429.000000\n",
       "mean      0.614173     3.088017\n",
       "std       0.486861     2.141471\n",
       "min       0.000000     0.037574\n",
       "25%       0.000000     1.701730\n",
       "50%       1.000000     2.287795\n",
       "75%       1.000000     3.405639\n",
       "max       1.000000     9.950723"
      ]
     },
     "execution_count": 147,
     "metadata": {},
     "output_type": "execute_result"
    }
   ],
   "source": [
    "# 4. контрольная подгруппа SR\n",
    "\n",
    "SR_cntrl_df[['score', 'RT']].describe()"
   ]
  },
  {
   "cell_type": "markdown",
   "metadata": {},
   "source": [
    "_Комментарий (2 VS 4): в группе SR между контрольной и экспериментальной подгруппами практически нет разницы в средней точности ответов. Среднее время реакции больше у контрольной подгруппы примерно на 221 миллисекунду, минимальное и максимальное время реакции у двух подгрупп практически одинаковое. Медиана времени реакции у экспериментальной подгруппы смещена левее (в меньшую сторону) примерно на 87 миллисекунд по сравнению с экспериментальной подгруппой._"
   ]
  },
  {
   "cell_type": "markdown",
   "metadata": {},
   "source": [
    "_Комментарий (3 VS 4): в контрольной группе между подгруппами SR и RS нет разницы в средней точности ответов. Среднее время реакции больше у подгруппы SR примерно на 171 миллисекунду. Медиана времени реакции у подгруппы RS смещена левее (в меньшую сторону) примерно на 69 миллисекунд по сравнению с подгруппой SR, максимальное время у двух подгрупп неразличимо, минимальное: всего на 20 миллисекунд меньше у подгруппы SR. Таким образом, напрашивается вывод, что, как и внутри экспериментальной группы, в контрольной группе, если этот вид стимуляции (плацебо) был вторым по счёту, участники в среднем отвечают быстрее._"
   ]
  },
  {
   "cell_type": "markdown",
   "metadata": {},
   "source": [
    "_**Общий вывод**: на этих данных не наблюдается эффекта от электрической стимуляции ни на корректность выполнения заданий, проверяющих запоминание слов, ни на время реакции в рамках этих заданий. При этом можно наблюдать, как участники, приступая ко второму по очереди этапу исследования (вне зависимости от типа стимуляции в нём), отвечают быстрее и уверенее (скорее всего, потому что им уже известен и понятен формат заданий). Выше я уже описывала возможные причины нулевого эффекта стимуляции и как можно было бы улучшить эксперимент, чтобы \"засечь\" его._"
   ]
  },
  {
   "cell_type": "code",
   "execution_count": null,
   "metadata": {},
   "outputs": [],
   "source": []
  }
 ],
 "metadata": {
  "kernelspec": {
   "display_name": "Python 3 (ipykernel)",
   "language": "python",
   "name": "python3"
  },
  "language_info": {
   "codemirror_mode": {
    "name": "ipython",
    "version": 3
   },
   "file_extension": ".py",
   "mimetype": "text/x-python",
   "name": "python",
   "nbconvert_exporter": "python",
   "pygments_lexer": "ipython3",
   "version": "3.11.5"
  }
 },
 "nbformat": 4,
 "nbformat_minor": 2
}
