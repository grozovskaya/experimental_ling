{
 "cells": [
  {
   "cell_type": "markdown",
   "metadata": {},
   "source": [
    "# Экспериментальная лингвистика\n",
    "\n",
    "## Домашнее задание 3\n",
    "\n",
    "    Задание: на основании данных эксперимента\n",
    "    • Построить основную и альтернативную гипотезу (одну или несколько) о закономерностях, наблюдаемых в данных\n",
    "    • Проверить гипотезу с помощью статистических критериев, прокомментировать результаты:\n",
    "        o Критерий t-Стьюдента об однородности выборок\n",
    "        o Критерий Вилкоксона\n",
    "        o Дисперсионного анализа ANOVA\n",
    "    • Для любых двух величин:\n",
    "        o построить матрицу сопряженности, применить к матрице критерий хи-квадрат, прокомментировать результат\n",
    "        o сформулировать гипотезу о корреляции двух величин, проверить с помощью статистического критерия \n",
    "        (корреляция Пирсона/Спирмена), прокомментировать результат"
   ]
  },
  {
   "cell_type": "code",
   "execution_count": 1,
   "metadata": {},
   "outputs": [],
   "source": [
    "import pandas as pd\n",
    "import scipy\n",
    "import numpy as np\n",
    "from scipy.stats import f_oneway\n",
    "import statsmodels.api as sm\n",
    "from statsmodels.formula.api import ols\n",
    "from statsmodels.stats.anova import anova_lm\n",
    "import matplotlib.pyplot as plt\n",
    "from scipy import stats\n",
    "from scipy.stats import chi2\n",
    "import seaborn as sns"
   ]
  },
  {
   "cell_type": "code",
   "execution_count": 2,
   "metadata": {
    "scrolled": true
   },
   "outputs": [
    {
     "data": {
      "text/html": [
       "<div>\n",
       "<style scoped>\n",
       "    .dataframe tbody tr th:only-of-type {\n",
       "        vertical-align: middle;\n",
       "    }\n",
       "\n",
       "    .dataframe tbody tr th {\n",
       "        vertical-align: top;\n",
       "    }\n",
       "\n",
       "    .dataframe thead th {\n",
       "        text-align: right;\n",
       "    }\n",
       "</style>\n",
       "<table border=\"1\" class=\"dataframe\">\n",
       "  <thead>\n",
       "    <tr style=\"text-align: right;\">\n",
       "      <th></th>\n",
       "      <th>participant</th>\n",
       "      <th>stim_order</th>\n",
       "      <th>condition</th>\n",
       "      <th>AL</th>\n",
       "      <th>L1</th>\n",
       "      <th>answer</th>\n",
       "      <th>score</th>\n",
       "      <th>RT</th>\n",
       "      <th>task</th>\n",
       "      <th>session</th>\n",
       "    </tr>\n",
       "  </thead>\n",
       "  <tbody>\n",
       "    <tr>\n",
       "      <th>0</th>\n",
       "      <td>0</td>\n",
       "      <td>RS</td>\n",
       "      <td>real</td>\n",
       "      <td>derartu</td>\n",
       "      <td>samolet</td>\n",
       "      <td>down</td>\n",
       "      <td>1.0</td>\n",
       "      <td>2.541925</td>\n",
       "      <td>AFC</td>\n",
       "      <td>train</td>\n",
       "    </tr>\n",
       "    <tr>\n",
       "      <th>1</th>\n",
       "      <td>0</td>\n",
       "      <td>RS</td>\n",
       "      <td>real</td>\n",
       "      <td>asamu</td>\n",
       "      <td>shprits</td>\n",
       "      <td>right</td>\n",
       "      <td>1.0</td>\n",
       "      <td>1.794262</td>\n",
       "      <td>AFC</td>\n",
       "      <td>train</td>\n",
       "    </tr>\n",
       "    <tr>\n",
       "      <th>2</th>\n",
       "      <td>0</td>\n",
       "      <td>RS</td>\n",
       "      <td>real</td>\n",
       "      <td>farimu</td>\n",
       "      <td>konvert</td>\n",
       "      <td>down</td>\n",
       "      <td>1.0</td>\n",
       "      <td>1.989078</td>\n",
       "      <td>AFC</td>\n",
       "      <td>train</td>\n",
       "    </tr>\n",
       "    <tr>\n",
       "      <th>3</th>\n",
       "      <td>0</td>\n",
       "      <td>RS</td>\n",
       "      <td>real</td>\n",
       "      <td>vortule</td>\n",
       "      <td>roza</td>\n",
       "      <td>left</td>\n",
       "      <td>1.0</td>\n",
       "      <td>1.904852</td>\n",
       "      <td>AFC</td>\n",
       "      <td>train</td>\n",
       "    </tr>\n",
       "    <tr>\n",
       "      <th>4</th>\n",
       "      <td>0</td>\n",
       "      <td>RS</td>\n",
       "      <td>real</td>\n",
       "      <td>topeme</td>\n",
       "      <td>terka</td>\n",
       "      <td>right</td>\n",
       "      <td>1.0</td>\n",
       "      <td>1.839869</td>\n",
       "      <td>AFC</td>\n",
       "      <td>train</td>\n",
       "    </tr>\n",
       "  </tbody>\n",
       "</table>\n",
       "</div>"
      ],
      "text/plain": [
       "   participant stim_order condition       AL       L1 answer  score        RT  \\\n",
       "0            0         RS      real  derartu  samolet   down    1.0  2.541925   \n",
       "1            0         RS      real    asamu  shprits  right    1.0  1.794262   \n",
       "2            0         RS      real   farimu  konvert   down    1.0  1.989078   \n",
       "3            0         RS      real  vortule     roza   left    1.0  1.904852   \n",
       "4            0         RS      real   topeme    terka  right    1.0  1.839869   \n",
       "\n",
       "  task session  \n",
       "0  AFC   train  \n",
       "1  AFC   train  \n",
       "2  AFC   train  \n",
       "3  AFC   train  \n",
       "4  AFC   train  "
      ]
     },
     "execution_count": 2,
     "metadata": {},
     "output_type": "execute_result"
    }
   ],
   "source": [
    "# данные экспериментов\n",
    "df = pd.read_excel('data_lecture_3_tACS.xlsx')\n",
    "df.head()"
   ]
  },
  {
   "cell_type": "code",
   "execution_count": 3,
   "metadata": {},
   "outputs": [
    {
     "data": {
      "image/png": "[encoded data removed]",
      "text/plain": [
       "<Figure size 864x360 with 2 Axes>"
      ]
     },
     "metadata": {},
     "output_type": "display_data"
    }
   ],
   "source": [
    "sns.set(rc={'figure.figsize':(12,5)})\n",
    "\n",
    "ax=df[['score','RT']].hist(color='orange' )"
   ]
  },
  {
   "cell_type": "markdown",
   "metadata": {},
   "source": [
    "Комментарий от преподавателя по поводу небинарных значений score: _\"1 - верный, все остальное неверное\"_\n",
    "\n",
    "Как и в прошлом дз, сразу заменим все score < 1 на 0:"
   ]
  },
  {
   "cell_type": "code",
   "execution_count": 4,
   "metadata": {},
   "outputs": [],
   "source": [
    "df.loc[df['score'] < 1, 'score'] = 0"
   ]
  },
  {
   "cell_type": "markdown",
   "metadata": {},
   "source": [
    "Супер!\n",
    "\n",
    "Теперь, для дальнейшего статистического анализа, группируем данные экспериментов по id участников, сессии (train/test), заданию, условию (настоящая/плацебо стимуляция), порядку стимуляций (RS/SR); считаем сумму score и среднее RT (только для правильных ответов):"
   ]
  },
  {
   "cell_type": "code",
   "execution_count": 5,
   "metadata": {},
   "outputs": [
    {
     "data": {
      "text/html": [
       "<div>\n",
       "<style scoped>\n",
       "    .dataframe tbody tr th:only-of-type {\n",
       "        vertical-align: middle;\n",
       "    }\n",
       "\n",
       "    .dataframe tbody tr th {\n",
       "        vertical-align: top;\n",
       "    }\n",
       "\n",
       "    .dataframe thead th {\n",
       "        text-align: right;\n",
       "    }\n",
       "</style>\n",
       "<table border=\"1\" class=\"dataframe\">\n",
       "  <thead>\n",
       "    <tr style=\"text-align: right;\">\n",
       "      <th></th>\n",
       "      <th>condition</th>\n",
       "      <th>mean_RT</th>\n",
       "      <th>participant</th>\n",
       "      <th>score</th>\n",
       "      <th>session</th>\n",
       "      <th>stim_order</th>\n",
       "      <th>task</th>\n",
       "    </tr>\n",
       "  </thead>\n",
       "  <tbody>\n",
       "    <tr>\n",
       "      <th>0</th>\n",
       "      <td>real</td>\n",
       "      <td>1.546667</td>\n",
       "      <td>0</td>\n",
       "      <td>22.0</td>\n",
       "      <td>test1</td>\n",
       "      <td>RS</td>\n",
       "      <td>SEM</td>\n",
       "    </tr>\n",
       "    <tr>\n",
       "      <th>1</th>\n",
       "      <td>sham</td>\n",
       "      <td>1.481284</td>\n",
       "      <td>0</td>\n",
       "      <td>28.0</td>\n",
       "      <td>test1</td>\n",
       "      <td>RS</td>\n",
       "      <td>SEM</td>\n",
       "    </tr>\n",
       "    <tr>\n",
       "      <th>2</th>\n",
       "      <td>real</td>\n",
       "      <td>4.878153</td>\n",
       "      <td>0</td>\n",
       "      <td>1.0</td>\n",
       "      <td>test1</td>\n",
       "      <td>RS</td>\n",
       "      <td>recall</td>\n",
       "    </tr>\n",
       "    <tr>\n",
       "      <th>3</th>\n",
       "      <td>sham</td>\n",
       "      <td>4.516147</td>\n",
       "      <td>0</td>\n",
       "      <td>1.0</td>\n",
       "      <td>test1</td>\n",
       "      <td>RS</td>\n",
       "      <td>recall</td>\n",
       "    </tr>\n",
       "    <tr>\n",
       "      <th>4</th>\n",
       "      <td>real</td>\n",
       "      <td>1.659898</td>\n",
       "      <td>0</td>\n",
       "      <td>19.0</td>\n",
       "      <td>test1</td>\n",
       "      <td>RS</td>\n",
       "      <td>recognition</td>\n",
       "    </tr>\n",
       "  </tbody>\n",
       "</table>\n",
       "</div>"
      ],
      "text/plain": [
       "  condition   mean_RT  participant  score session stim_order         task\n",
       "0      real  1.546667            0   22.0   test1         RS          SEM\n",
       "1      sham  1.481284            0   28.0   test1         RS          SEM\n",
       "2      real  4.878153            0    1.0   test1         RS       recall\n",
       "3      sham  4.516147            0    1.0   test1         RS       recall\n",
       "4      real  1.659898            0   19.0   test1         RS  recognition"
      ]
     },
     "execution_count": 5,
     "metadata": {},
     "output_type": "execute_result"
    }
   ],
   "source": [
    "df_total = []\n",
    "\n",
    "for (p_id, session, task, condition), groupdf in df.groupby(['participant', 'session', 'task', 'condition']):\n",
    "    df_total.append({'participant': p_id, \n",
    "                     'session': session,\n",
    "                     'task': task,\n",
    "                     'condition': condition,\n",
    "                     'stim_order': groupdf['stim_order'].unique().tolist()[0],\n",
    "                     'score': groupdf['score'].sum(),\n",
    "                     'mean_RT': groupdf[groupdf['score'] == 1]['RT'].mean()})\n",
    "    \n",
    "df_total = pd.DataFrame(df_total)\n",
    "df_total.head()"
   ]
  },
  {
   "cell_type": "code",
   "execution_count": 6,
   "metadata": {},
   "outputs": [
    {
     "data": {
      "text/plain": [
       "(480, 7)"
      ]
     },
     "execution_count": 6,
     "metadata": {},
     "output_type": "execute_result"
    }
   ],
   "source": [
    "df_total.shape"
   ]
  },
  {
   "cell_type": "code",
   "execution_count": 7,
   "metadata": {},
   "outputs": [
    {
     "data": {
      "text/html": [
       "<div>\n",
       "<style scoped>\n",
       "    .dataframe tbody tr th:only-of-type {\n",
       "        vertical-align: middle;\n",
       "    }\n",
       "\n",
       "    .dataframe tbody tr th {\n",
       "        vertical-align: top;\n",
       "    }\n",
       "\n",
       "    .dataframe thead th {\n",
       "        text-align: right;\n",
       "    }\n",
       "</style>\n",
       "<table border=\"1\" class=\"dataframe\">\n",
       "  <thead>\n",
       "    <tr style=\"text-align: right;\">\n",
       "      <th></th>\n",
       "      <th>id</th>\n",
       "      <th>sex</th>\n",
       "      <th>age</th>\n",
       "      <th>languages</th>\n",
       "      <th>degree</th>\n",
       "      <th>years</th>\n",
       "      <th>lefthand</th>\n",
       "      <th>family_lefthand</th>\n",
       "    </tr>\n",
       "  </thead>\n",
       "  <tbody>\n",
       "    <tr>\n",
       "      <th>0</th>\n",
       "      <td>0</td>\n",
       "      <td>m</td>\n",
       "      <td>33</td>\n",
       "      <td>Английский, немецкий</td>\n",
       "      <td>Высшее</td>\n",
       "      <td>16.0</td>\n",
       "      <td>нет</td>\n",
       "      <td>нет</td>\n",
       "    </tr>\n",
       "    <tr>\n",
       "      <th>1</th>\n",
       "      <td>1</td>\n",
       "      <td>m</td>\n",
       "      <td>25</td>\n",
       "      <td>Английский: B1, немецкий: А1, белорусский: B1</td>\n",
       "      <td>Высшее</td>\n",
       "      <td>16.0</td>\n",
       "      <td>нет</td>\n",
       "      <td>нет</td>\n",
       "    </tr>\n",
       "    <tr>\n",
       "      <th>2</th>\n",
       "      <td>2</td>\n",
       "      <td>m</td>\n",
       "      <td>38</td>\n",
       "      <td>Английский: B1</td>\n",
       "      <td>Высшее</td>\n",
       "      <td>16.0</td>\n",
       "      <td>нет</td>\n",
       "      <td>Да</td>\n",
       "    </tr>\n",
       "    <tr>\n",
       "      <th>3</th>\n",
       "      <td>3</td>\n",
       "      <td>f</td>\n",
       "      <td>22</td>\n",
       "      <td>Английский: С1, китайский: начальный, итальянс...</td>\n",
       "      <td>Высшее</td>\n",
       "      <td>16.0</td>\n",
       "      <td>нет</td>\n",
       "      <td>нет</td>\n",
       "    </tr>\n",
       "    <tr>\n",
       "      <th>4</th>\n",
       "      <td>4</td>\n",
       "      <td>f</td>\n",
       "      <td>22</td>\n",
       "      <td>Английский: B1</td>\n",
       "      <td>Высшее</td>\n",
       "      <td>15.5</td>\n",
       "      <td>нет</td>\n",
       "      <td>нет</td>\n",
       "    </tr>\n",
       "  </tbody>\n",
       "</table>\n",
       "</div>"
      ],
      "text/plain": [
       "   id sex  age                                          languages  degree  \\\n",
       "0   0   m   33                               Английский, немецкий  Высшее   \n",
       "1   1   m   25      Английский: B1, немецкий: А1, белорусский: B1  Высшее   \n",
       "2   2   m   38                                     Английский: B1  Высшее   \n",
       "3   3   f   22  Английский: С1, китайский: начальный, итальянс...  Высшее   \n",
       "4   4   f   22                                     Английский: B1  Высшее   \n",
       "\n",
       "   years lefthand family_lefthand  \n",
       "0   16.0      нет             нет  \n",
       "1   16.0      нет             нет  \n",
       "2   16.0      нет              Да  \n",
       "3   16.0      нет             нет  \n",
       "4   15.5      нет             нет  "
      ]
     },
     "execution_count": 7,
     "metadata": {},
     "output_type": "execute_result"
    }
   ],
   "source": [
    "# мета-данные\n",
    "meta_df = pd.read_excel('data_tACS_meta.xlsx', names=['id','sex','age',\n",
    "                                                      'languages','degree','years','lefthand','family_lefthand'])\n",
    "meta_df.head()"
   ]
  },
  {
   "cell_type": "code",
   "execution_count": 8,
   "metadata": {},
   "outputs": [
    {
     "data": {
      "text/plain": [
       "(30, 8)"
      ]
     },
     "execution_count": 8,
     "metadata": {},
     "output_type": "execute_result"
    }
   ],
   "source": [
    "meta_df.shape"
   ]
  },
  {
   "cell_type": "markdown",
   "metadata": {},
   "source": [
    "### Гипотезы:\n",
    "\n",
    "Гипотезы об эффекте condition/order на score/RT я проверяла в предыдущем дз2 и пришла к выводу, что электрическая стимуляция не влияет на правильность и скорость ответов участников, однако порядок испытаний имеет значениее: вне зависимости от качества стимуляции (реальная или плацебо), на втором этапе эксперимента участники отвечают быстрее. \n",
    "\n",
    "Другая пара гипотез, которую мне было бы интересно проверить: корреляция кол-ва иностранных языков' и точности выполнения заданий. В данном случае я буду рассматривать кол-во знакомых участнику иностранных языков как условную меру его опыта в изучении новой лексики. Можно предположить, что человек, которому доводилось учить более одного иностранного языка, будет лучше справляться с заданиями на запоминание новых слов, чем тот, кто изучал только однин родной язык (потому что для первого такого рода деятельность более привычна, чем для второго). Соответственно, чем больше языков человек учил - тем более у него развиты соответствующие навыки и тем выше будут его баллы за задания.\n",
    "\n",
    "' - пока что это колонка \"languages\" в meta_df, после обработки добавлю отдельную колонку с соответствующей количественной переменной.\n",
    "\n",
    "**FL H0 (отсутствие эффекта изучения нескольких иностранных языков):** кол-во знакомых участнику иностранных языков (FL >1) не коррелирует с точностью выполнения заданий (score).\n",
    "\n",
    "**FL H1 (эффект изучения нескольких иностранных языков есть):** кол-во знакомых участнику иностранных языков >1 коррелирует с точностью выполнения заданий."
   ]
  },
  {
   "cell_type": "code",
   "execution_count": 9,
   "metadata": {
    "scrolled": true
   },
   "outputs": [],
   "source": [
    "FL_list = [len(meta_df['languages'][i].split(',')) for i in range(meta_df.shape[0])]"
   ]
  },
  {
   "cell_type": "code",
   "execution_count": 10,
   "metadata": {
    "scrolled": true
   },
   "outputs": [
    {
     "data": {
      "text/html": [
       "<div>\n",
       "<style scoped>\n",
       "    .dataframe tbody tr th:only-of-type {\n",
       "        vertical-align: middle;\n",
       "    }\n",
       "\n",
       "    .dataframe tbody tr th {\n",
       "        vertical-align: top;\n",
       "    }\n",
       "\n",
       "    .dataframe thead th {\n",
       "        text-align: right;\n",
       "    }\n",
       "</style>\n",
       "<table border=\"1\" class=\"dataframe\">\n",
       "  <thead>\n",
       "    <tr style=\"text-align: right;\">\n",
       "      <th></th>\n",
       "      <th>id</th>\n",
       "      <th>sex</th>\n",
       "      <th>age</th>\n",
       "      <th>languages</th>\n",
       "      <th>degree</th>\n",
       "      <th>years</th>\n",
       "      <th>lefthand</th>\n",
       "      <th>family_lefthand</th>\n",
       "      <th>FL</th>\n",
       "    </tr>\n",
       "  </thead>\n",
       "  <tbody>\n",
       "    <tr>\n",
       "      <th>0</th>\n",
       "      <td>0</td>\n",
       "      <td>m</td>\n",
       "      <td>33</td>\n",
       "      <td>Английский, немецкий</td>\n",
       "      <td>Высшее</td>\n",
       "      <td>16.0</td>\n",
       "      <td>нет</td>\n",
       "      <td>нет</td>\n",
       "      <td>2</td>\n",
       "    </tr>\n",
       "    <tr>\n",
       "      <th>1</th>\n",
       "      <td>1</td>\n",
       "      <td>m</td>\n",
       "      <td>25</td>\n",
       "      <td>Английский: B1, немецкий: А1, белорусский: B1</td>\n",
       "      <td>Высшее</td>\n",
       "      <td>16.0</td>\n",
       "      <td>нет</td>\n",
       "      <td>нет</td>\n",
       "      <td>3</td>\n",
       "    </tr>\n",
       "    <tr>\n",
       "      <th>2</th>\n",
       "      <td>2</td>\n",
       "      <td>m</td>\n",
       "      <td>38</td>\n",
       "      <td>Английский: B1</td>\n",
       "      <td>Высшее</td>\n",
       "      <td>16.0</td>\n",
       "      <td>нет</td>\n",
       "      <td>Да</td>\n",
       "      <td>1</td>\n",
       "    </tr>\n",
       "    <tr>\n",
       "      <th>3</th>\n",
       "      <td>3</td>\n",
       "      <td>f</td>\n",
       "      <td>22</td>\n",
       "      <td>Английский: С1, китайский: начальный, итальянс...</td>\n",
       "      <td>Высшее</td>\n",
       "      <td>16.0</td>\n",
       "      <td>нет</td>\n",
       "      <td>нет</td>\n",
       "      <td>3</td>\n",
       "    </tr>\n",
       "    <tr>\n",
       "      <th>4</th>\n",
       "      <td>4</td>\n",
       "      <td>f</td>\n",
       "      <td>22</td>\n",
       "      <td>Английский: B1</td>\n",
       "      <td>Высшее</td>\n",
       "      <td>15.5</td>\n",
       "      <td>нет</td>\n",
       "      <td>нет</td>\n",
       "      <td>1</td>\n",
       "    </tr>\n",
       "  </tbody>\n",
       "</table>\n",
       "</div>"
      ],
      "text/plain": [
       "   id sex  age                                          languages  degree  \\\n",
       "0   0   m   33                               Английский, немецкий  Высшее   \n",
       "1   1   m   25      Английский: B1, немецкий: А1, белорусский: B1  Высшее   \n",
       "2   2   m   38                                     Английский: B1  Высшее   \n",
       "3   3   f   22  Английский: С1, китайский: начальный, итальянс...  Высшее   \n",
       "4   4   f   22                                     Английский: B1  Высшее   \n",
       "\n",
       "   years lefthand family_lefthand  FL  \n",
       "0   16.0      нет             нет   2  \n",
       "1   16.0      нет             нет   3  \n",
       "2   16.0      нет              Да   1  \n",
       "3   16.0      нет             нет   3  \n",
       "4   15.5      нет             нет   1  "
      ]
     },
     "execution_count": 10,
     "metadata": {},
     "output_type": "execute_result"
    }
   ],
   "source": [
    "meta_df['FL'] = FL_list\n",
    "meta_df.head()"
   ]
  },
  {
   "cell_type": "markdown",
   "metadata": {},
   "source": [
    "Чтобы понять, по какой границе делить участников на более-менее равные выборки, посмотрим на распределение кол-ва иностранных языков:"
   ]
  },
  {
   "cell_type": "code",
   "execution_count": 11,
   "metadata": {},
   "outputs": [
    {
     "data": {
      "text/plain": [
       "count    30.000000\n",
       "mean      1.733333\n",
       "std       0.868345\n",
       "min       1.000000\n",
       "25%       1.000000\n",
       "50%       1.500000\n",
       "75%       2.000000\n",
       "max       4.000000\n",
       "Name: FL, dtype: float64"
      ]
     },
     "execution_count": 11,
     "metadata": {},
     "output_type": "execute_result"
    }
   ],
   "source": [
    "meta_df['FL'].describe()"
   ]
  },
  {
   "cell_type": "markdown",
   "metadata": {},
   "source": [
    "Медиана (50%) равна 1.5, то есть (учитывая, что у нас только целочисленные показатели в столбце FL) у нас будет одна выборка, где люди знают только 1 иностранный язык, и вторая выборка, где люди знают 2 и больше."
   ]
  },
  {
   "cell_type": "code",
   "execution_count": 12,
   "metadata": {},
   "outputs": [
    {
     "data": {
      "text/html": [
       "<div>\n",
       "<style scoped>\n",
       "    .dataframe tbody tr th:only-of-type {\n",
       "        vertical-align: middle;\n",
       "    }\n",
       "\n",
       "    .dataframe tbody tr th {\n",
       "        vertical-align: top;\n",
       "    }\n",
       "\n",
       "    .dataframe thead th {\n",
       "        text-align: right;\n",
       "    }\n",
       "</style>\n",
       "<table border=\"1\" class=\"dataframe\">\n",
       "  <thead>\n",
       "    <tr style=\"text-align: right;\">\n",
       "      <th></th>\n",
       "      <th>id</th>\n",
       "      <th>sex</th>\n",
       "      <th>age</th>\n",
       "      <th>languages</th>\n",
       "      <th>degree</th>\n",
       "      <th>years</th>\n",
       "      <th>lefthand</th>\n",
       "      <th>family_lefthand</th>\n",
       "      <th>FL</th>\n",
       "    </tr>\n",
       "  </thead>\n",
       "  <tbody>\n",
       "    <tr>\n",
       "      <th>2</th>\n",
       "      <td>2</td>\n",
       "      <td>m</td>\n",
       "      <td>38</td>\n",
       "      <td>Английский: B1</td>\n",
       "      <td>Высшее</td>\n",
       "      <td>16.0</td>\n",
       "      <td>нет</td>\n",
       "      <td>Да</td>\n",
       "      <td>1</td>\n",
       "    </tr>\n",
       "    <tr>\n",
       "      <th>4</th>\n",
       "      <td>4</td>\n",
       "      <td>f</td>\n",
       "      <td>22</td>\n",
       "      <td>Английский: B1</td>\n",
       "      <td>Высшее</td>\n",
       "      <td>15.5</td>\n",
       "      <td>нет</td>\n",
       "      <td>нет</td>\n",
       "      <td>1</td>\n",
       "    </tr>\n",
       "    <tr>\n",
       "      <th>6</th>\n",
       "      <td>6</td>\n",
       "      <td>m</td>\n",
       "      <td>29</td>\n",
       "      <td>нет</td>\n",
       "      <td>Среднее</td>\n",
       "      <td>13.0</td>\n",
       "      <td>нет</td>\n",
       "      <td>нет</td>\n",
       "      <td>1</td>\n",
       "    </tr>\n",
       "    <tr>\n",
       "      <th>7</th>\n",
       "      <td>7</td>\n",
       "      <td>m</td>\n",
       "      <td>21</td>\n",
       "      <td>Английский: С1</td>\n",
       "      <td>Высшее</td>\n",
       "      <td>15.0</td>\n",
       "      <td>нет</td>\n",
       "      <td>нет</td>\n",
       "      <td>1</td>\n",
       "    </tr>\n",
       "    <tr>\n",
       "      <th>9</th>\n",
       "      <td>9</td>\n",
       "      <td>m</td>\n",
       "      <td>27</td>\n",
       "      <td>Английский: B2</td>\n",
       "      <td>Высшее</td>\n",
       "      <td>18.0</td>\n",
       "      <td>нет</td>\n",
       "      <td>нет</td>\n",
       "      <td>1</td>\n",
       "    </tr>\n",
       "  </tbody>\n",
       "</table>\n",
       "</div>"
      ],
      "text/plain": [
       "   id sex  age       languages   degree  years lefthand family_lefthand  FL\n",
       "2   2   m   38  Английский: B1   Высшее   16.0      нет              Да   1\n",
       "4   4   f   22  Английский: B1   Высшее   15.5      нет             нет   1\n",
       "6   6   m   29             нет  Среднее   13.0      нет             нет   1\n",
       "7   7   m   21  Английский: С1   Высшее   15.0      нет             нет   1\n",
       "9   9   m   27  Английский: B2   Высшее   18.0      нет             нет   1"
      ]
     },
     "execution_count": 12,
     "metadata": {},
     "output_type": "execute_result"
    }
   ],
   "source": [
    "one_meta_df = meta_df.loc[(meta_df['FL'] == 1)] # выборка участников, изучавших 1 ин.яз.\n",
    "one_meta_df.head()"
   ]
  },
  {
   "cell_type": "code",
   "execution_count": 13,
   "metadata": {},
   "outputs": [
    {
     "data": {
      "text/plain": [
       "(15, 9)"
      ]
     },
     "execution_count": 13,
     "metadata": {},
     "output_type": "execute_result"
    }
   ],
   "source": [
    "one_meta_df.shape"
   ]
  },
  {
   "cell_type": "code",
   "execution_count": 14,
   "metadata": {},
   "outputs": [
    {
     "data": {
      "text/html": [
       "<div>\n",
       "<style scoped>\n",
       "    .dataframe tbody tr th:only-of-type {\n",
       "        vertical-align: middle;\n",
       "    }\n",
       "\n",
       "    .dataframe tbody tr th {\n",
       "        vertical-align: top;\n",
       "    }\n",
       "\n",
       "    .dataframe thead th {\n",
       "        text-align: right;\n",
       "    }\n",
       "</style>\n",
       "<table border=\"1\" class=\"dataframe\">\n",
       "  <thead>\n",
       "    <tr style=\"text-align: right;\">\n",
       "      <th></th>\n",
       "      <th>id</th>\n",
       "      <th>sex</th>\n",
       "      <th>age</th>\n",
       "      <th>languages</th>\n",
       "      <th>degree</th>\n",
       "      <th>years</th>\n",
       "      <th>lefthand</th>\n",
       "      <th>family_lefthand</th>\n",
       "      <th>FL</th>\n",
       "    </tr>\n",
       "  </thead>\n",
       "  <tbody>\n",
       "    <tr>\n",
       "      <th>0</th>\n",
       "      <td>0</td>\n",
       "      <td>m</td>\n",
       "      <td>33</td>\n",
       "      <td>Английский, немецкий</td>\n",
       "      <td>Высшее</td>\n",
       "      <td>16.0</td>\n",
       "      <td>нет</td>\n",
       "      <td>нет</td>\n",
       "      <td>2</td>\n",
       "    </tr>\n",
       "    <tr>\n",
       "      <th>1</th>\n",
       "      <td>1</td>\n",
       "      <td>m</td>\n",
       "      <td>25</td>\n",
       "      <td>Английский: B1, немецкий: А1, белорусский: B1</td>\n",
       "      <td>Высшее</td>\n",
       "      <td>16.0</td>\n",
       "      <td>нет</td>\n",
       "      <td>нет</td>\n",
       "      <td>3</td>\n",
       "    </tr>\n",
       "    <tr>\n",
       "      <th>3</th>\n",
       "      <td>3</td>\n",
       "      <td>f</td>\n",
       "      <td>22</td>\n",
       "      <td>Английский: С1, китайский: начальный, итальянс...</td>\n",
       "      <td>Высшее</td>\n",
       "      <td>16.0</td>\n",
       "      <td>нет</td>\n",
       "      <td>нет</td>\n",
       "      <td>3</td>\n",
       "    </tr>\n",
       "    <tr>\n",
       "      <th>5</th>\n",
       "      <td>5</td>\n",
       "      <td>f</td>\n",
       "      <td>25</td>\n",
       "      <td>Английский: С1, Французский: B1</td>\n",
       "      <td>Высшее</td>\n",
       "      <td>17.0</td>\n",
       "      <td>нет</td>\n",
       "      <td>нет</td>\n",
       "      <td>2</td>\n",
       "    </tr>\n",
       "    <tr>\n",
       "      <th>8</th>\n",
       "      <td>8</td>\n",
       "      <td>f</td>\n",
       "      <td>22</td>\n",
       "      <td>Английский С1, французский: начальный,индонези...</td>\n",
       "      <td>Высшее</td>\n",
       "      <td>16.0</td>\n",
       "      <td>нет</td>\n",
       "      <td>нет</td>\n",
       "      <td>3</td>\n",
       "    </tr>\n",
       "  </tbody>\n",
       "</table>\n",
       "</div>"
      ],
      "text/plain": [
       "   id sex  age                                          languages  degree  \\\n",
       "0   0   m   33                               Английский, немецкий  Высшее   \n",
       "1   1   m   25      Английский: B1, немецкий: А1, белорусский: B1  Высшее   \n",
       "3   3   f   22  Английский: С1, китайский: начальный, итальянс...  Высшее   \n",
       "5   5   f   25                    Английский: С1, Французский: B1  Высшее   \n",
       "8   8   f   22  Английский С1, французский: начальный,индонези...  Высшее   \n",
       "\n",
       "   years lefthand family_lefthand  FL  \n",
       "0   16.0      нет             нет   2  \n",
       "1   16.0      нет             нет   3  \n",
       "3   16.0      нет             нет   3  \n",
       "5   17.0      нет             нет   2  \n",
       "8   16.0      нет             нет   3  "
      ]
     },
     "execution_count": 14,
     "metadata": {},
     "output_type": "execute_result"
    }
   ],
   "source": [
    "more_meta_df = meta_df.loc[(meta_df['FL'] > 1)] # выборка участников, изучавших 2 и более ин.яз.\n",
    "more_meta_df.head()"
   ]
  },
  {
   "cell_type": "code",
   "execution_count": 15,
   "metadata": {},
   "outputs": [
    {
     "data": {
      "text/plain": [
       "(15, 9)"
      ]
     },
     "execution_count": 15,
     "metadata": {},
     "output_type": "execute_result"
    }
   ],
   "source": [
    "more_meta_df.shape"
   ]
  },
  {
   "cell_type": "markdown",
   "metadata": {},
   "source": [
    "Получилось как раз поровну, ура!\n",
    "Теперь надо разбить данные экспериментов на эти 2 выборки по id участников:"
   ]
  },
  {
   "cell_type": "code",
   "execution_count": 16,
   "metadata": {},
   "outputs": [
    {
     "data": {
      "text/html": [
       "<div>\n",
       "<style scoped>\n",
       "    .dataframe tbody tr th:only-of-type {\n",
       "        vertical-align: middle;\n",
       "    }\n",
       "\n",
       "    .dataframe tbody tr th {\n",
       "        vertical-align: top;\n",
       "    }\n",
       "\n",
       "    .dataframe thead th {\n",
       "        text-align: right;\n",
       "    }\n",
       "</style>\n",
       "<table border=\"1\" class=\"dataframe\">\n",
       "  <thead>\n",
       "    <tr style=\"text-align: right;\">\n",
       "      <th></th>\n",
       "      <th>condition</th>\n",
       "      <th>mean_RT</th>\n",
       "      <th>participant</th>\n",
       "      <th>score</th>\n",
       "      <th>session</th>\n",
       "      <th>stim_order</th>\n",
       "      <th>task</th>\n",
       "    </tr>\n",
       "  </thead>\n",
       "  <tbody>\n",
       "    <tr>\n",
       "      <th>32</th>\n",
       "      <td>real</td>\n",
       "      <td>NaN</td>\n",
       "      <td>2</td>\n",
       "      <td>0.0</td>\n",
       "      <td>test1</td>\n",
       "      <td>RS</td>\n",
       "      <td>SEM</td>\n",
       "    </tr>\n",
       "    <tr>\n",
       "      <th>33</th>\n",
       "      <td>sham</td>\n",
       "      <td>1.877448</td>\n",
       "      <td>2</td>\n",
       "      <td>16.0</td>\n",
       "      <td>test1</td>\n",
       "      <td>RS</td>\n",
       "      <td>SEM</td>\n",
       "    </tr>\n",
       "    <tr>\n",
       "      <th>34</th>\n",
       "      <td>real</td>\n",
       "      <td>5.719197</td>\n",
       "      <td>2</td>\n",
       "      <td>2.0</td>\n",
       "      <td>test1</td>\n",
       "      <td>RS</td>\n",
       "      <td>recall</td>\n",
       "    </tr>\n",
       "    <tr>\n",
       "      <th>35</th>\n",
       "      <td>sham</td>\n",
       "      <td>5.367566</td>\n",
       "      <td>2</td>\n",
       "      <td>1.0</td>\n",
       "      <td>test1</td>\n",
       "      <td>RS</td>\n",
       "      <td>recall</td>\n",
       "    </tr>\n",
       "    <tr>\n",
       "      <th>36</th>\n",
       "      <td>real</td>\n",
       "      <td>2.147587</td>\n",
       "      <td>2</td>\n",
       "      <td>27.0</td>\n",
       "      <td>test1</td>\n",
       "      <td>RS</td>\n",
       "      <td>recognition</td>\n",
       "    </tr>\n",
       "  </tbody>\n",
       "</table>\n",
       "</div>"
      ],
      "text/plain": [
       "   condition   mean_RT  participant  score session stim_order         task\n",
       "32      real       NaN            2    0.0   test1         RS          SEM\n",
       "33      sham  1.877448            2   16.0   test1         RS          SEM\n",
       "34      real  5.719197            2    2.0   test1         RS       recall\n",
       "35      sham  5.367566            2    1.0   test1         RS       recall\n",
       "36      real  2.147587            2   27.0   test1         RS  recognition"
      ]
     },
     "execution_count": 16,
     "metadata": {},
     "output_type": "execute_result"
    }
   ],
   "source": [
    "one_ids = list(one_meta_df['id'])\n",
    "\n",
    "# выборка результатов участников, изучавших 1 ин.яз\n",
    "\n",
    "one_df = df_total.apply(lambda row: row[df_total['participant'].isin(one_ids)])\n",
    "one_df.head()"
   ]
  },
  {
   "cell_type": "code",
   "execution_count": 17,
   "metadata": {},
   "outputs": [
    {
     "data": {
      "text/plain": [
       "(240, 7)"
      ]
     },
     "execution_count": 17,
     "metadata": {},
     "output_type": "execute_result"
    }
   ],
   "source": [
    "one_df.shape"
   ]
  },
  {
   "cell_type": "code",
   "execution_count": 18,
   "metadata": {
    "scrolled": true
   },
   "outputs": [
    {
     "data": {
      "text/html": [
       "<div>\n",
       "<style scoped>\n",
       "    .dataframe tbody tr th:only-of-type {\n",
       "        vertical-align: middle;\n",
       "    }\n",
       "\n",
       "    .dataframe tbody tr th {\n",
       "        vertical-align: top;\n",
       "    }\n",
       "\n",
       "    .dataframe thead th {\n",
       "        text-align: right;\n",
       "    }\n",
       "</style>\n",
       "<table border=\"1\" class=\"dataframe\">\n",
       "  <thead>\n",
       "    <tr style=\"text-align: right;\">\n",
       "      <th></th>\n",
       "      <th>condition</th>\n",
       "      <th>mean_RT</th>\n",
       "      <th>participant</th>\n",
       "      <th>score</th>\n",
       "      <th>session</th>\n",
       "      <th>stim_order</th>\n",
       "      <th>task</th>\n",
       "    </tr>\n",
       "  </thead>\n",
       "  <tbody>\n",
       "    <tr>\n",
       "      <th>0</th>\n",
       "      <td>real</td>\n",
       "      <td>1.546667</td>\n",
       "      <td>0</td>\n",
       "      <td>22.0</td>\n",
       "      <td>test1</td>\n",
       "      <td>RS</td>\n",
       "      <td>SEM</td>\n",
       "    </tr>\n",
       "    <tr>\n",
       "      <th>1</th>\n",
       "      <td>sham</td>\n",
       "      <td>1.481284</td>\n",
       "      <td>0</td>\n",
       "      <td>28.0</td>\n",
       "      <td>test1</td>\n",
       "      <td>RS</td>\n",
       "      <td>SEM</td>\n",
       "    </tr>\n",
       "    <tr>\n",
       "      <th>2</th>\n",
       "      <td>real</td>\n",
       "      <td>4.878153</td>\n",
       "      <td>0</td>\n",
       "      <td>1.0</td>\n",
       "      <td>test1</td>\n",
       "      <td>RS</td>\n",
       "      <td>recall</td>\n",
       "    </tr>\n",
       "    <tr>\n",
       "      <th>3</th>\n",
       "      <td>sham</td>\n",
       "      <td>4.516147</td>\n",
       "      <td>0</td>\n",
       "      <td>1.0</td>\n",
       "      <td>test1</td>\n",
       "      <td>RS</td>\n",
       "      <td>recall</td>\n",
       "    </tr>\n",
       "    <tr>\n",
       "      <th>4</th>\n",
       "      <td>real</td>\n",
       "      <td>1.659898</td>\n",
       "      <td>0</td>\n",
       "      <td>19.0</td>\n",
       "      <td>test1</td>\n",
       "      <td>RS</td>\n",
       "      <td>recognition</td>\n",
       "    </tr>\n",
       "  </tbody>\n",
       "</table>\n",
       "</div>"
      ],
      "text/plain": [
       "  condition   mean_RT  participant  score session stim_order         task\n",
       "0      real  1.546667            0   22.0   test1         RS          SEM\n",
       "1      sham  1.481284            0   28.0   test1         RS          SEM\n",
       "2      real  4.878153            0    1.0   test1         RS       recall\n",
       "3      sham  4.516147            0    1.0   test1         RS       recall\n",
       "4      real  1.659898            0   19.0   test1         RS  recognition"
      ]
     },
     "execution_count": 18,
     "metadata": {},
     "output_type": "execute_result"
    }
   ],
   "source": [
    "more_ids = list(more_meta_df['id'])\n",
    "\n",
    "# выборка результатов участников, изучавших 2 и более ин.яз.\n",
    "\n",
    "more_df = df_total.apply(lambda row: row[df_total['participant'].isin(more_ids)])\n",
    "more_df.head()"
   ]
  },
  {
   "cell_type": "code",
   "execution_count": 19,
   "metadata": {
    "scrolled": true
   },
   "outputs": [
    {
     "data": {
      "text/plain": [
       "(240, 7)"
      ]
     },
     "execution_count": 19,
     "metadata": {},
     "output_type": "execute_result"
    }
   ],
   "source": [
    "more_df.shape"
   ]
  },
  {
   "cell_type": "markdown",
   "metadata": {},
   "source": [
    "### Статистические критерии\n",
    "\n",
    "**Критерий t-Стьюдента** - для сравнения средних показателей выборок, т.е. насколько в среднем первая и вторая выборка различаются по выбранному параметру. Формула: (среднее выборки 1 - среднее выборки 2)/стандартная ошибка'.\n",
    "\n",
    "' - вычисляется на основе стандартных отклонений параметра у первой и второй выборок.\n",
    "\n",
    "Если разность средних достаточно большая, а стандартная ошибка очень маленькая, то значение t-критерия будет весьма внушительным. А чем больше t-критерий, тем с большей уверенностью мы можем утверждать, что в среднем первая выборка отличается от второй.\n",
    "\n",
    "P-уровень значимости (p-value) - вероятность того, что две случайно выбранные группы из первой и второй выборки дадут значение критерия большее или равное тому, которое мы получили (чаще всего без учета его знака).\n",
    "\n",
    "(\"Статистика и котики\", главы 3-4)"
   ]
  },
  {
   "cell_type": "code",
   "execution_count": 20,
   "metadata": {
    "scrolled": true
   },
   "outputs": [
    {
     "data": {
      "text/plain": [
       "Ttest_relResult(statistic=-2.740962707388568, pvalue=0.0065887458654477074)"
      ]
     },
     "execution_count": 20,
     "metadata": {},
     "output_type": "execute_result"
    }
   ],
   "source": [
    "# Критерий t-Стьюдента для score\n",
    "stats.ttest_rel(one_df['score'], more_df['score'])"
   ]
  },
  {
   "cell_type": "markdown",
   "metadata": {},
   "source": [
    "Значение p-value оказалось < 0.05; значит, мы отвергаем нулевую гипотезу (H0) и принимаем альтернативную (Н1): эффект изучения иностранных языков для score есть!\n",
    "\n",
    "***"
   ]
  },
  {
   "cell_type": "markdown",
   "metadata": {},
   "source": [
    "**Критерий Вилкоксона** - непараметрический аналог t-критерия Стьюдента (т.е. не использующий в своей формуле среднее значение).\n",
    "\n",
    "Итак, чтобы его найти, вычислим разности между состоянием до и после для каждого объекта. Затем поставим эти разности в один ряд, от самой большой до самой маленькой, назначив им ранги. При этом знак разности не учитывается. Теперь снова разделим разности на положительные и отрицательные и посчитаем суммы рангов. Логика здесь такая: чем сильнее суммы рангов будут различаться между собой, тем сильнее отрицательный или положительный эффект.\n",
    "\n",
    "(\"Статистика и котики\", глава 7)"
   ]
  },
  {
   "cell_type": "code",
   "execution_count": 21,
   "metadata": {},
   "outputs": [
    {
     "data": {
      "text/plain": [
       "WilcoxonResult(statistic=9171.0, pvalue=0.0029841667738170724)"
      ]
     },
     "execution_count": 21,
     "metadata": {},
     "output_type": "execute_result"
    }
   ],
   "source": [
    "# Критерий Вилкоксона для score\n",
    "stats.wilcoxon(one_df['score'], more_df['score'])"
   ]
  },
  {
   "cell_type": "markdown",
   "metadata": {},
   "source": [
    "Значение p-value снова оказалось < 0.05; значит, мы отвергаем нулевую гипотезу (H0) и принимаем альтернативную (Н1): эффект изучения иностранных языков для score есть!\n",
    "\n",
    "***"
   ]
  },
  {
   "cell_type": "markdown",
   "metadata": {},
   "source": [
    "**Дисперсионный анализ ANalysis Of VAriance (ANOVA)** — это статистический метод, который используется для сравнения средних значений двух или более выборок. Он позволяет определить, различаются ли средние значения между группами, или же различия случайны. \n",
    "\n",
    "**Однофакторный ANOVA** (однофакторный дисперсионный анализ) – это метод статистического анализа данных, который используется для определения наличия статистически значимых различий между двумя или более группами по одной независимой переменной. \n",
    "\n",
    "Входными данными для однофакторного ANOVA являются значения зависимой переменной и групповой фактор, на основе которых проводится анализ. Фактор может быть любой номинальной или порядковой переменной, которая разделяет выборку на группы (в простом случае, это может быть пол, возраст, уровень образования и т.д.). Зависимая переменная – это та переменная, которую мы хотим сравнить в различных группах.\n",
    "\n",
    "Однофакторный ANOVA проверяет нулевую гипотезу о том, что среднее значение зависимой переменной одинаково во всех группах. Если p-значение меньше заданного уровня значимости (обычно 0.05), тогда мы можем сделать вывод о том, что средние значения по группам различаются статистически значимо друг от друга.\n",
    "\n",
    "F-статистика (F-значение) измеряет различия между группами, то есть отношение между средними значениями в группах и дисперсией внутри групп. Если F-значение большое, то это указывает на статистически значимые различия между группами.\n",
    "\n",
    "p-value (вероятность) - это вероятность того, что различия между группами были случайными и не связаны с фактором, который изучается. Если p-value меньше выбранного уровня значимости, то можно отбросить нулевую гипотезу и утверждать, что между группами есть статистически значимые различия.\n",
    "\n",
    "Важно знать, что F-статистика и p-value не являются самостоятельными критериями для определения статистической значимости. Они должны использоваться вместе с другими статистическими методами для получения более точных результатов.\n",
    "\n",
    "**Многовариантный ANOVA** (analysis of variance) — это статистический метод, который используется для анализа различий между группами (факторами) и влияния различных переменных (факторов) на исследуемую зависимую переменную. Он позволяет выявить, есть ли статистически значимое влияние одного или нескольких факторов на зависимую переменную, и определить, какие из факторов оказывают наибольшее влияние.\n",
    "\n",
    "Многовариантный ANOVA может использоваться для анализа различных типов данных, включая непрерывные, дискретные и категориальные переменные. Он также может рассчитываться для различных уровней взаимодействия между факторами, что позволяет учитывать сложные взаимодействия между переменными.\n",
    "\n",
    "https://habr.com/ru/companies/otus/articles/734258/"
   ]
  },
  {
   "cell_type": "code",
   "execution_count": 22,
   "metadata": {},
   "outputs": [
    {
     "data": {
      "text/plain": [
       "F_onewayResult(statistic=1.4265356027436153, pvalue=0.23292299795773708)"
      ]
     },
     "execution_count": 22,
     "metadata": {},
     "output_type": "execute_result"
    }
   ],
   "source": [
    "# однофакторный дисперсионный анализ для score\n",
    "\n",
    "f_oneway(one_df['score'], more_df['score'])"
   ]
  },
  {
   "cell_type": "markdown",
   "metadata": {},
   "source": [
    "Значение pvalue большое, сильно больше 0.05. На основе этого результата мы должны принять нулевую гипотезу о том, что эффекта нет, хотя два предыдущих критерия показали обратное...\n",
    "\n",
    "Попробуем применить многофакторный анализ. Для этого добавим данные о возрасте к данным эксперимента:"
   ]
  },
  {
   "cell_type": "code",
   "execution_count": 23,
   "metadata": {},
   "outputs": [
    {
     "data": {
      "text/html": [
       "<div>\n",
       "<style scoped>\n",
       "    .dataframe tbody tr th:only-of-type {\n",
       "        vertical-align: middle;\n",
       "    }\n",
       "\n",
       "    .dataframe tbody tr th {\n",
       "        vertical-align: top;\n",
       "    }\n",
       "\n",
       "    .dataframe thead th {\n",
       "        text-align: right;\n",
       "    }\n",
       "</style>\n",
       "<table border=\"1\" class=\"dataframe\">\n",
       "  <thead>\n",
       "    <tr style=\"text-align: right;\">\n",
       "      <th></th>\n",
       "      <th>condition</th>\n",
       "      <th>mean_RT</th>\n",
       "      <th>participant</th>\n",
       "      <th>score</th>\n",
       "      <th>session</th>\n",
       "      <th>stim_order</th>\n",
       "      <th>task</th>\n",
       "      <th>FL</th>\n",
       "    </tr>\n",
       "  </thead>\n",
       "  <tbody>\n",
       "    <tr>\n",
       "      <th>0</th>\n",
       "      <td>real</td>\n",
       "      <td>1.546667</td>\n",
       "      <td>0</td>\n",
       "      <td>22.0</td>\n",
       "      <td>test1</td>\n",
       "      <td>RS</td>\n",
       "      <td>SEM</td>\n",
       "      <td>2</td>\n",
       "    </tr>\n",
       "    <tr>\n",
       "      <th>1</th>\n",
       "      <td>sham</td>\n",
       "      <td>1.481284</td>\n",
       "      <td>0</td>\n",
       "      <td>28.0</td>\n",
       "      <td>test1</td>\n",
       "      <td>RS</td>\n",
       "      <td>SEM</td>\n",
       "      <td>2</td>\n",
       "    </tr>\n",
       "    <tr>\n",
       "      <th>2</th>\n",
       "      <td>real</td>\n",
       "      <td>4.878153</td>\n",
       "      <td>0</td>\n",
       "      <td>1.0</td>\n",
       "      <td>test1</td>\n",
       "      <td>RS</td>\n",
       "      <td>recall</td>\n",
       "      <td>2</td>\n",
       "    </tr>\n",
       "    <tr>\n",
       "      <th>3</th>\n",
       "      <td>sham</td>\n",
       "      <td>4.516147</td>\n",
       "      <td>0</td>\n",
       "      <td>1.0</td>\n",
       "      <td>test1</td>\n",
       "      <td>RS</td>\n",
       "      <td>recall</td>\n",
       "      <td>2</td>\n",
       "    </tr>\n",
       "    <tr>\n",
       "      <th>4</th>\n",
       "      <td>real</td>\n",
       "      <td>1.659898</td>\n",
       "      <td>0</td>\n",
       "      <td>19.0</td>\n",
       "      <td>test1</td>\n",
       "      <td>RS</td>\n",
       "      <td>recognition</td>\n",
       "      <td>2</td>\n",
       "    </tr>\n",
       "  </tbody>\n",
       "</table>\n",
       "</div>"
      ],
      "text/plain": [
       "  condition   mean_RT  participant  score session stim_order         task  FL\n",
       "0      real  1.546667            0   22.0   test1         RS          SEM   2\n",
       "1      sham  1.481284            0   28.0   test1         RS          SEM   2\n",
       "2      real  4.878153            0    1.0   test1         RS       recall   2\n",
       "3      sham  4.516147            0    1.0   test1         RS       recall   2\n",
       "4      real  1.659898            0   19.0   test1         RS  recognition   2"
      ]
     },
     "execution_count": 23,
     "metadata": {},
     "output_type": "execute_result"
    }
   ],
   "source": [
    "df_total_id_list = [row['participant'] for i, row in df_total.iterrows()]\n",
    "\n",
    "df_total['FL'] = [int(meta_df.loc[(meta_df['id'] == id_item), 'FL']) for id_item in df_total_id_list]\n",
    "\n",
    "df_total.head()"
   ]
  },
  {
   "cell_type": "code",
   "execution_count": 24,
   "metadata": {},
   "outputs": [
    {
     "data": {
      "text/html": [
       "<div>\n",
       "<style scoped>\n",
       "    .dataframe tbody tr th:only-of-type {\n",
       "        vertical-align: middle;\n",
       "    }\n",
       "\n",
       "    .dataframe tbody tr th {\n",
       "        vertical-align: top;\n",
       "    }\n",
       "\n",
       "    .dataframe thead th {\n",
       "        text-align: right;\n",
       "    }\n",
       "</style>\n",
       "<table border=\"1\" class=\"dataframe\">\n",
       "  <thead>\n",
       "    <tr style=\"text-align: right;\">\n",
       "      <th></th>\n",
       "      <th>sum_sq</th>\n",
       "      <th>df</th>\n",
       "      <th>F</th>\n",
       "      <th>PR(&gt;F)</th>\n",
       "    </tr>\n",
       "  </thead>\n",
       "  <tbody>\n",
       "    <tr>\n",
       "      <th>C(FL)</th>\n",
       "      <td>371.529306</td>\n",
       "      <td>3.0</td>\n",
       "      <td>0.844395</td>\n",
       "      <td>0.470055</td>\n",
       "    </tr>\n",
       "    <tr>\n",
       "      <th>C(condition)</th>\n",
       "      <td>1.200000</td>\n",
       "      <td>1.0</td>\n",
       "      <td>0.008182</td>\n",
       "      <td>0.927965</td>\n",
       "    </tr>\n",
       "    <tr>\n",
       "      <th>C(stim_order)</th>\n",
       "      <td>19.395973</td>\n",
       "      <td>1.0</td>\n",
       "      <td>0.132247</td>\n",
       "      <td>0.716276</td>\n",
       "    </tr>\n",
       "    <tr>\n",
       "      <th>Residual</th>\n",
       "      <td>69519.187360</td>\n",
       "      <td>474.0</td>\n",
       "      <td>NaN</td>\n",
       "      <td>NaN</td>\n",
       "    </tr>\n",
       "  </tbody>\n",
       "</table>\n",
       "</div>"
      ],
      "text/plain": [
       "                     sum_sq     df         F    PR(>F)\n",
       "C(FL)            371.529306    3.0  0.844395  0.470055\n",
       "C(condition)       1.200000    1.0  0.008182  0.927965\n",
       "C(stim_order)     19.395973    1.0  0.132247  0.716276\n",
       "Residual       69519.187360  474.0       NaN       NaN"
      ]
     },
     "execution_count": 24,
     "metadata": {},
     "output_type": "execute_result"
    }
   ],
   "source": [
    "# многофакторный дисперсионный анализ для score\n",
    "\n",
    "formula = 'score ~ C(FL) + C(condition) + C(stim_order)'\n",
    "model = ols(formula, df_total).fit()\n",
    "aov_table = anova_lm(model, typ=2)\n",
    "\n",
    "aov_table"
   ]
  },
  {
   "cell_type": "markdown",
   "metadata": {},
   "source": [
    "Значение pvalue для всех выбранных факторов больше 0.05. При этом у количества знакомых языков этот показатель ниже всех, но всё ещё больше 0.05. На основе этого результата мы должны принять нулевую гипотезу о том, что эффекта изучения более одного иностранного языка нет. При этом важно заметить, что других эффектов здесь тоже не наблюдается.\n",
    "\n",
    "### Таблица сопряженности \n",
    "\n",
    "средство представления совместного распределения двух переменных, предназначенное для исследования связи между ними. \n",
    "\n",
    "Рассмотрим совместоне распределение score и FL:"
   ]
  },
  {
   "cell_type": "code",
   "execution_count": 25,
   "metadata": {},
   "outputs": [
    {
     "data": {
      "text/html": [
       "<div>\n",
       "<style scoped>\n",
       "    .dataframe tbody tr th:only-of-type {\n",
       "        vertical-align: middle;\n",
       "    }\n",
       "\n",
       "    .dataframe tbody tr th {\n",
       "        vertical-align: top;\n",
       "    }\n",
       "\n",
       "    .dataframe thead th {\n",
       "        text-align: right;\n",
       "    }\n",
       "</style>\n",
       "<table border=\"1\" class=\"dataframe\">\n",
       "  <thead>\n",
       "    <tr style=\"text-align: right;\">\n",
       "      <th>FL</th>\n",
       "      <th>1</th>\n",
       "      <th>2</th>\n",
       "      <th>3</th>\n",
       "      <th>4</th>\n",
       "    </tr>\n",
       "    <tr>\n",
       "      <th>score_quart</th>\n",
       "      <th></th>\n",
       "      <th></th>\n",
       "      <th></th>\n",
       "      <th></th>\n",
       "    </tr>\n",
       "  </thead>\n",
       "  <tbody>\n",
       "    <tr>\n",
       "      <th>0.0</th>\n",
       "      <td>87</td>\n",
       "      <td>44</td>\n",
       "      <td>32</td>\n",
       "      <td>6</td>\n",
       "    </tr>\n",
       "    <tr>\n",
       "      <th>1.0</th>\n",
       "      <td>10</td>\n",
       "      <td>9</td>\n",
       "      <td>1</td>\n",
       "      <td>0</td>\n",
       "    </tr>\n",
       "    <tr>\n",
       "      <th>2.0</th>\n",
       "      <td>80</td>\n",
       "      <td>42</td>\n",
       "      <td>18</td>\n",
       "      <td>5</td>\n",
       "    </tr>\n",
       "    <tr>\n",
       "      <th>3.0</th>\n",
       "      <td>62</td>\n",
       "      <td>45</td>\n",
       "      <td>27</td>\n",
       "      <td>5</td>\n",
       "    </tr>\n",
       "    <tr>\n",
       "      <th>4.0</th>\n",
       "      <td>1</td>\n",
       "      <td>4</td>\n",
       "      <td>2</td>\n",
       "      <td>0</td>\n",
       "    </tr>\n",
       "  </tbody>\n",
       "</table>\n",
       "</div>"
      ],
      "text/plain": [
       "FL            1   2   3  4\n",
       "score_quart               \n",
       "0.0          87  44  32  6\n",
       "1.0          10   9   1  0\n",
       "2.0          80  42  18  5\n",
       "3.0          62  45  27  5\n",
       "4.0           1   4   2  0"
      ]
     },
     "execution_count": 25,
     "metadata": {},
     "output_type": "execute_result"
    }
   ],
   "source": [
    "df_total['score_quart'] = df_total['score'].apply(lambda x: x // (df_total['score'].max() // 4))\n",
    "\n",
    "contingency=pd.crosstab(df_total['score_quart'], df_total['FL'])\n",
    "contingency"
   ]
  },
  {
   "cell_type": "markdown",
   "metadata": {},
   "source": [
    "На первый взгляд выглядит так, словно моя гипотеза в корне не верна :)"
   ]
  },
  {
   "cell_type": "markdown",
   "metadata": {},
   "source": [
    "**Критерий Хи-квадрат Пирсона**\n",
    "\n",
    "Все вышеперечисленные критерии замечательно работают в случаях, когда нам известны точные или хотя бы приблизительные значения выбранного параметра для двух выборок. Однако такие ситуации встречаются далеко не всегда. Иногда мы можем иметь только указание на то, большое или маленькое значение параметра у объекта. В таких нелегких условиях определить различия между выборками нам поможет критерий Хи-квадрат Пирсона.\n",
    "\n",
    "Чтобы вычислить этот критерий, нужно построить так называемые таблицы сопряженности. В простейшем случае это таблицы 2х2, каждой ячейке которых — кол-во (т.е. частота) объектов выборки с  определенным значением параметра. Впрочем, бывают таблицы сопряженности и с бОльшим количеством столбцов и строчек.\n",
    "\n",
    "И основная идея критерия Хи-квадрат состоит в том, чтобы сравнить такую таблицу, в которой выборка 1 не отличается от выборки 2 (иначе — таблицу теоретических частот), с той, что есть у нас (таблицей эмпирических частот).\n",
    "\n",
    "(\"Статистика и котики\", глава 3)"
   ]
  },
  {
   "cell_type": "code",
   "execution_count": 26,
   "metadata": {},
   "outputs": [
    {
     "data": {
      "text/plain": [
       "(13.778973801167187, 0.3150448113810907)"
      ]
     },
     "execution_count": 26,
     "metadata": {},
     "output_type": "execute_result"
    }
   ],
   "source": [
    "stats.chi2_contingency(contingency)[:2]"
   ]
  },
  {
   "cell_type": "markdown",
   "metadata": {},
   "source": [
    "Значение pvalue снова сильно больше 0.05. Получается, что связи между кол-вом изученных иностранных языков и точностью выполнения заданий нет."
   ]
  },
  {
   "cell_type": "markdown",
   "metadata": {},
   "source": [
    "### Корреляции"
   ]
  },
  {
   "cell_type": "code",
   "execution_count": 27,
   "metadata": {},
   "outputs": [
    {
     "data": {
      "text/html": [
       "<div>\n",
       "<style scoped>\n",
       "    .dataframe tbody tr th:only-of-type {\n",
       "        vertical-align: middle;\n",
       "    }\n",
       "\n",
       "    .dataframe tbody tr th {\n",
       "        vertical-align: top;\n",
       "    }\n",
       "\n",
       "    .dataframe thead th {\n",
       "        text-align: right;\n",
       "    }\n",
       "</style>\n",
       "<table border=\"1\" class=\"dataframe\">\n",
       "  <thead>\n",
       "    <tr style=\"text-align: right;\">\n",
       "      <th></th>\n",
       "      <th>score</th>\n",
       "      <th>FL</th>\n",
       "      <th>mean_RT</th>\n",
       "    </tr>\n",
       "  </thead>\n",
       "  <tbody>\n",
       "    <tr>\n",
       "      <th>score</th>\n",
       "      <td>1.000000</td>\n",
       "      <td>0.021877</td>\n",
       "      <td>-0.814793</td>\n",
       "    </tr>\n",
       "    <tr>\n",
       "      <th>FL</th>\n",
       "      <td>0.021877</td>\n",
       "      <td>1.000000</td>\n",
       "      <td>-0.016507</td>\n",
       "    </tr>\n",
       "    <tr>\n",
       "      <th>mean_RT</th>\n",
       "      <td>-0.814793</td>\n",
       "      <td>-0.016507</td>\n",
       "      <td>1.000000</td>\n",
       "    </tr>\n",
       "  </tbody>\n",
       "</table>\n",
       "</div>"
      ],
      "text/plain": [
       "            score        FL   mean_RT\n",
       "score    1.000000  0.021877 -0.814793\n",
       "FL       0.021877  1.000000 -0.016507\n",
       "mean_RT -0.814793 -0.016507  1.000000"
      ]
     },
     "execution_count": 27,
     "metadata": {},
     "output_type": "execute_result"
    }
   ],
   "source": [
    "df_total[['score', 'FL', 'mean_RT']].corr()"
   ]
  },
  {
   "cell_type": "markdown",
   "metadata": {},
   "source": [
    "Гипотеза: чем дольше человек думает над ответом, тем неправильнее он отвечает в результате (видимо, потому что не знает и вспомнить так и не удалось).\n",
    "\n",
    "**Корреляция Спирмена** - чтобы его вычислить, упорядочим выборку по параметру 1 (по убыванию) и присвоим им ранги. Затем мы перераспределим их по параметру 2 (так же по убыванию) и присвоим им ранги уже по этому признаку. Если результаты обоих ранжирований будут совпадать между собой, то мы можем констатировать положительную связь, если же они будут диаметрально противоположными — отрицательную. Критерий Спирмена мы получаем, применив специальную формулу к нашим рангам, и он интерпретируется аналогично r-критерию Пирсона: он может изменяться в пределах от -1 до 1, где -1 — отрицательная связь, +1 положительная связь, а 0 — отсутствие всякой связи.\n",
    "\n",
    "\n",
    "(\"Статистика и котики\", глава 9)"
   ]
  },
  {
   "cell_type": "code",
   "execution_count": 28,
   "metadata": {},
   "outputs": [],
   "source": [
    "df_total.dropna(inplace=True)"
   ]
  },
  {
   "cell_type": "code",
   "execution_count": 29,
   "metadata": {
    "scrolled": true
   },
   "outputs": [
    {
     "data": {
      "text/plain": [
       "(-0.6795522930004186, 3.5955058320837244e-61)"
      ]
     },
     "execution_count": 29,
     "metadata": {},
     "output_type": "execute_result"
    }
   ],
   "source": [
    "rho, p = stats.spearmanr(df_total.mean_RT, df_total.score)\n",
    "rho, p"
   ]
  },
  {
   "cell_type": "markdown",
   "metadata": {},
   "source": [
    "Если я правильно поняла как интерпретировать эти числа, то между mean_RT и score существует отрицательная корреляция, т.е. чем больше времени человек тратит на ответ, тем хуже его результаты. Тогда эта гипотеза подтверждается!"
   ]
  },
  {
   "cell_type": "code",
   "execution_count": null,
   "metadata": {},
   "outputs": [],
   "source": []
  }
 ],
 "metadata": {
  "kernelspec": {
   "display_name": "Python 3 (ipykernel)",
   "language": "python",
   "name": "python3"
  },
  "language_info": {
   "codemirror_mode": {
    "name": "ipython",
    "version": 3
   },
   "file_extension": ".py",
   "mimetype": "text/x-python",
   "name": "python",
   "nbconvert_exporter": "python",
   "pygments_lexer": "ipython3",
   "version": "3.11.5"
  }
 },
 "nbformat": 4,
 "nbformat_minor": 2
}
